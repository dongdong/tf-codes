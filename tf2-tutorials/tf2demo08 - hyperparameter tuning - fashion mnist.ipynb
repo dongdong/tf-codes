{
 "cells": [
  {
   "cell_type": "code",
   "execution_count": 1,
   "metadata": {},
   "outputs": [],
   "source": [
    "import tensorflow as tf\n",
    "from tensorflow import keras\n",
    "import keras_tuner as kt"
   ]
  },
  {
   "cell_type": "code",
   "execution_count": 2,
   "metadata": {},
   "outputs": [],
   "source": [
    "(img_train, label_train), (img_test, label_test) = keras.datasets.fashion_mnist.load_data()"
   ]
  },
  {
   "cell_type": "code",
   "execution_count": 3,
   "metadata": {},
   "outputs": [],
   "source": [
    "# Normalize pixel values between 0 and 1\n",
    "img_train = img_train.astype('float32') / 255.0\n",
    "img_test = img_test.astype('float32') / 255.0"
   ]
  },
  {
   "cell_type": "code",
   "execution_count": 4,
   "metadata": {},
   "outputs": [],
   "source": [
    "def model_builder(hp):\n",
    "    model = keras.Sequential()\n",
    "    model.add(keras.layers.Flatten(input_shape=(28, 28)))\n",
    "\n",
    "    # Tune the number of units in the first Dense layer\n",
    "    # Choose an optimal value between 32-512\n",
    "    hp_units = hp.Int('units', min_value=32, max_value=512, step=32)\n",
    "    model.add(keras.layers.Dense(units=hp_units, activation='relu'))\n",
    "    model.add(keras.layers.Dense(10))\n",
    "\n",
    "    # Tune the learning rate for the optimizer\n",
    "    # Choose an optimal value from 0.01, 0.001, or 0.0001\n",
    "    hp_learning_rate = hp.Choice('learning_rate', values=[1e-2, 1e-3, 1e-4])\n",
    "\n",
    "    model.compile(optimizer=keras.optimizers.Adam(learning_rate=hp_learning_rate),\n",
    "                  loss=keras.losses.SparseCategoricalCrossentropy(from_logits=True),\n",
    "                  metrics=['accuracy'])\n",
    "    \n",
    "    return model"
   ]
  },
  {
   "cell_type": "code",
   "execution_count": 5,
   "metadata": {},
   "outputs": [],
   "source": [
    "tuner = kt.Hyperband(model_builder,\n",
    "                     objective='val_accuracy',\n",
    "                     max_epochs=10,\n",
    "                     factor=3,\n",
    "                     directory='my_dir',\n",
    "                     project_name='intro_to_kt')"
   ]
  },
  {
   "cell_type": "code",
   "execution_count": 6,
   "metadata": {},
   "outputs": [],
   "source": [
    "stop_early = tf.keras.callbacks.EarlyStopping(monitor='val_loss', patience=5)"
   ]
  },
  {
   "cell_type": "code",
   "execution_count": 7,
   "metadata": {},
   "outputs": [
    {
     "name": "stdout",
     "output_type": "stream",
     "text": [
      "Trial 30 Complete [00h 01m 03s]\n",
      "val_accuracy: 0.8821666836738586\n",
      "\n",
      "Best val_accuracy So Far: 0.893916666507721\n",
      "Total elapsed time: 00h 10m 41s\n",
      "INFO:tensorflow:Oracle triggered exit\n",
      "\n",
      "The hyperparameter search is complete. The optimal number of units in the first densely-connected\n",
      "layer is 480 and the optimal learning rate for the optimizer\n",
      "is 0.001.\n",
      "\n"
     ]
    }
   ],
   "source": [
    "tuner.search(img_train, label_train, epochs=50, validation_split=0.2, callbacks=[stop_early])\n",
    "\n",
    "# Get the optimal hyperparameters\n",
    "best_hps=tuner.get_best_hyperparameters(num_trials=1)[0]\n",
    "\n",
    "print(f\"\"\"\n",
    "The hyperparameter search is complete. The optimal number of units in the first densely-connected\n",
    "layer is {best_hps.get('units')} and the optimal learning rate for the optimizer\n",
    "is {best_hps.get('learning_rate')}.\n",
    "\"\"\")"
   ]
  },
  {
   "cell_type": "code",
   "execution_count": 8,
   "metadata": {},
   "outputs": [
    {
     "name": "stdout",
     "output_type": "stream",
     "text": [
      "Epoch 1/50\n",
      "1500/1500 [==============================] - 7s 5ms/step - loss: 0.4979 - accuracy: 0.8237 - val_loss: 0.3877 - val_accuracy: 0.8592\n",
      "Epoch 2/50\n",
      "1500/1500 [==============================] - 7s 5ms/step - loss: 0.3729 - accuracy: 0.8635 - val_loss: 0.3628 - val_accuracy: 0.8716\n",
      "Epoch 3/50\n",
      "1500/1500 [==============================] - 6s 4ms/step - loss: 0.3302 - accuracy: 0.8792 - val_loss: 0.3456 - val_accuracy: 0.8737\n",
      "Epoch 4/50\n",
      "1500/1500 [==============================] - 6s 4ms/step - loss: 0.3049 - accuracy: 0.8880 - val_loss: 0.3565 - val_accuracy: 0.8718\n",
      "Epoch 5/50\n",
      "1500/1500 [==============================] - 6s 4ms/step - loss: 0.2873 - accuracy: 0.8938 - val_loss: 0.3197 - val_accuracy: 0.8832\n",
      "Epoch 6/50\n",
      "1500/1500 [==============================] - 7s 4ms/step - loss: 0.2698 - accuracy: 0.8998 - val_loss: 0.3363 - val_accuracy: 0.8833\n",
      "Epoch 7/50\n",
      "1500/1500 [==============================] - 8s 5ms/step - loss: 0.2565 - accuracy: 0.9047 - val_loss: 0.3129 - val_accuracy: 0.8868\n",
      "Epoch 8/50\n",
      "1500/1500 [==============================] - 6s 4ms/step - loss: 0.2429 - accuracy: 0.9099 - val_loss: 0.3179 - val_accuracy: 0.8906\n",
      "Epoch 9/50\n",
      "1500/1500 [==============================] - 7s 4ms/step - loss: 0.2335 - accuracy: 0.9122 - val_loss: 0.3203 - val_accuracy: 0.8848\n",
      "Epoch 10/50\n",
      "1500/1500 [==============================] - 7s 4ms/step - loss: 0.2262 - accuracy: 0.9142 - val_loss: 0.3046 - val_accuracy: 0.8954\n",
      "Epoch 11/50\n",
      "1500/1500 [==============================] - 6s 4ms/step - loss: 0.2137 - accuracy: 0.9189 - val_loss: 0.3393 - val_accuracy: 0.8884\n",
      "Epoch 12/50\n",
      "1500/1500 [==============================] - 6s 4ms/step - loss: 0.2077 - accuracy: 0.9233 - val_loss: 0.3367 - val_accuracy: 0.8866\n",
      "Epoch 13/50\n",
      "1500/1500 [==============================] - 6s 4ms/step - loss: 0.2003 - accuracy: 0.9240 - val_loss: 0.3204 - val_accuracy: 0.8923\n",
      "Epoch 14/50\n",
      "1500/1500 [==============================] - 7s 4ms/step - loss: 0.1905 - accuracy: 0.9289 - val_loss: 0.3310 - val_accuracy: 0.8913\n",
      "Epoch 15/50\n",
      "1500/1500 [==============================] - 6s 4ms/step - loss: 0.1844 - accuracy: 0.9303 - val_loss: 0.3320 - val_accuracy: 0.8925\n",
      "Epoch 16/50\n",
      "1500/1500 [==============================] - 6s 4ms/step - loss: 0.1788 - accuracy: 0.9327 - val_loss: 0.3403 - val_accuracy: 0.8901\n",
      "Epoch 17/50\n",
      "1500/1500 [==============================] - 7s 5ms/step - loss: 0.1741 - accuracy: 0.9346 - val_loss: 0.3146 - val_accuracy: 0.8956\n",
      "Epoch 18/50\n",
      "1500/1500 [==============================] - 6s 4ms/step - loss: 0.1676 - accuracy: 0.9378 - val_loss: 0.3329 - val_accuracy: 0.8945\n",
      "Epoch 19/50\n",
      "1500/1500 [==============================] - 6s 4ms/step - loss: 0.1593 - accuracy: 0.9396 - val_loss: 0.3627 - val_accuracy: 0.8873\n",
      "Epoch 20/50\n",
      "1500/1500 [==============================] - 6s 4ms/step - loss: 0.1586 - accuracy: 0.9412 - val_loss: 0.3591 - val_accuracy: 0.8938\n",
      "Epoch 21/50\n",
      "1500/1500 [==============================] - 7s 5ms/step - loss: 0.1518 - accuracy: 0.9428 - val_loss: 0.3522 - val_accuracy: 0.8944\n",
      "Epoch 22/50\n",
      "1500/1500 [==============================] - 7s 5ms/step - loss: 0.1486 - accuracy: 0.9445 - val_loss: 0.3768 - val_accuracy: 0.8934\n",
      "Epoch 23/50\n",
      "1500/1500 [==============================] - 5s 4ms/step - loss: 0.1430 - accuracy: 0.9460 - val_loss: 0.3665 - val_accuracy: 0.8940\n",
      "Epoch 24/50\n",
      "1500/1500 [==============================] - 7s 4ms/step - loss: 0.1385 - accuracy: 0.9476 - val_loss: 0.3583 - val_accuracy: 0.8947\n",
      "Epoch 25/50\n",
      "1500/1500 [==============================] - 8s 5ms/step - loss: 0.1334 - accuracy: 0.9499 - val_loss: 0.4009 - val_accuracy: 0.8853\n",
      "Epoch 26/50\n",
      "1500/1500 [==============================] - 8s 5ms/step - loss: 0.1320 - accuracy: 0.9510 - val_loss: 0.3873 - val_accuracy: 0.8894\n",
      "Epoch 27/50\n",
      "1500/1500 [==============================] - 6s 4ms/step - loss: 0.1269 - accuracy: 0.9517 - val_loss: 0.3840 - val_accuracy: 0.8939\n",
      "Epoch 28/50\n",
      "1500/1500 [==============================] - 6s 4ms/step - loss: 0.1250 - accuracy: 0.9522 - val_loss: 0.3885 - val_accuracy: 0.8965\n",
      "Epoch 29/50\n",
      "1500/1500 [==============================] - 8s 5ms/step - loss: 0.1178 - accuracy: 0.9551 - val_loss: 0.4066 - val_accuracy: 0.8945\n",
      "Epoch 30/50\n",
      "1500/1500 [==============================] - 7s 5ms/step - loss: 0.1185 - accuracy: 0.9547 - val_loss: 0.3914 - val_accuracy: 0.8945\n",
      "Epoch 31/50\n",
      "1500/1500 [==============================] - 7s 5ms/step - loss: 0.1148 - accuracy: 0.9561 - val_loss: 0.4314 - val_accuracy: 0.8870\n",
      "Epoch 32/50\n",
      "1500/1500 [==============================] - 7s 5ms/step - loss: 0.1113 - accuracy: 0.9582 - val_loss: 0.4357 - val_accuracy: 0.8864\n",
      "Epoch 33/50\n",
      "1500/1500 [==============================] - 7s 5ms/step - loss: 0.1096 - accuracy: 0.9590 - val_loss: 0.4258 - val_accuracy: 0.8935\n",
      "Epoch 34/50\n",
      "1500/1500 [==============================] - 7s 5ms/step - loss: 0.1073 - accuracy: 0.9593 - val_loss: 0.4368 - val_accuracy: 0.8931\n",
      "Epoch 35/50\n",
      "1500/1500 [==============================] - 8s 5ms/step - loss: 0.1044 - accuracy: 0.9613 - val_loss: 0.4302 - val_accuracy: 0.8939\n",
      "Epoch 36/50\n",
      "1500/1500 [==============================] - 8s 5ms/step - loss: 0.0997 - accuracy: 0.9621 - val_loss: 0.4190 - val_accuracy: 0.8942\n",
      "Epoch 37/50\n",
      "1500/1500 [==============================] - 7s 5ms/step - loss: 0.0968 - accuracy: 0.9628 - val_loss: 0.4672 - val_accuracy: 0.8938\n",
      "Epoch 38/50\n",
      "1500/1500 [==============================] - 7s 4ms/step - loss: 0.0947 - accuracy: 0.9636 - val_loss: 0.5235 - val_accuracy: 0.8821\n",
      "Epoch 39/50\n",
      "1500/1500 [==============================] - 7s 5ms/step - loss: 0.0947 - accuracy: 0.9642 - val_loss: 0.4712 - val_accuracy: 0.8918\n",
      "Epoch 40/50\n",
      "1500/1500 [==============================] - 7s 5ms/step - loss: 0.0904 - accuracy: 0.9652 - val_loss: 0.4941 - val_accuracy: 0.8883\n",
      "Epoch 41/50\n",
      "1500/1500 [==============================] - 7s 4ms/step - loss: 0.0882 - accuracy: 0.9674 - val_loss: 0.4677 - val_accuracy: 0.8921\n",
      "Epoch 42/50\n",
      "1500/1500 [==============================] - 6s 4ms/step - loss: 0.0871 - accuracy: 0.9669 - val_loss: 0.4927 - val_accuracy: 0.8914\n",
      "Epoch 43/50\n",
      "1500/1500 [==============================] - 6s 4ms/step - loss: 0.0892 - accuracy: 0.9667 - val_loss: 0.4814 - val_accuracy: 0.8938\n",
      "Epoch 44/50\n",
      "1500/1500 [==============================] - 6s 4ms/step - loss: 0.0844 - accuracy: 0.9692 - val_loss: 0.4930 - val_accuracy: 0.8921\n",
      "Epoch 45/50\n",
      "1500/1500 [==============================] - 6s 4ms/step - loss: 0.0833 - accuracy: 0.9689 - val_loss: 0.5025 - val_accuracy: 0.8955\n",
      "Epoch 46/50\n",
      "1500/1500 [==============================] - 7s 5ms/step - loss: 0.0814 - accuracy: 0.9689 - val_loss: 0.5058 - val_accuracy: 0.8927\n",
      "Epoch 47/50\n",
      "1500/1500 [==============================] - 6s 4ms/step - loss: 0.0788 - accuracy: 0.9708 - val_loss: 0.4974 - val_accuracy: 0.8970\n",
      "Epoch 48/50\n",
      "1500/1500 [==============================] - 7s 5ms/step - loss: 0.0784 - accuracy: 0.9704 - val_loss: 0.4993 - val_accuracy: 0.8970\n",
      "Epoch 49/50\n",
      "1500/1500 [==============================] - 7s 5ms/step - loss: 0.0768 - accuracy: 0.9718 - val_loss: 0.4928 - val_accuracy: 0.8976\n",
      "Epoch 50/50\n",
      "1500/1500 [==============================] - 8s 5ms/step - loss: 0.0740 - accuracy: 0.9716 - val_loss: 0.5344 - val_accuracy: 0.8919\n",
      "Best epoch: 49\n"
     ]
    }
   ],
   "source": [
    "# Build the model with the optimal hyperparameters and train it on the data for 50 epochs\n",
    "model = tuner.hypermodel.build(best_hps)\n",
    "history = model.fit(img_train, label_train, epochs=50, validation_split=0.2)\n",
    "\n",
    "val_acc_per_epoch = history.history['val_accuracy']\n",
    "best_epoch = val_acc_per_epoch.index(max(val_acc_per_epoch)) + 1\n",
    "print('Best epoch: %d' % (best_epoch,))"
   ]
  },
  {
   "cell_type": "code",
   "execution_count": 9,
   "metadata": {},
   "outputs": [
    {
     "name": "stdout",
     "output_type": "stream",
     "text": [
      "Epoch 1/49\n",
      "1500/1500 [==============================] - 7s 4ms/step - loss: 0.4917 - accuracy: 0.8253 - val_loss: 0.3950 - val_accuracy: 0.8558\n",
      "Epoch 2/49\n",
      "1500/1500 [==============================] - 7s 4ms/step - loss: 0.3670 - accuracy: 0.8669 - val_loss: 0.3834 - val_accuracy: 0.8628\n",
      "Epoch 3/49\n",
      "1500/1500 [==============================] - 6s 4ms/step - loss: 0.3312 - accuracy: 0.8774 - val_loss: 0.3434 - val_accuracy: 0.8752\n",
      "Epoch 4/49\n",
      "1500/1500 [==============================] - 6s 4ms/step - loss: 0.3052 - accuracy: 0.8860 - val_loss: 0.3308 - val_accuracy: 0.8822\n",
      "Epoch 5/49\n",
      "1500/1500 [==============================] - 6s 4ms/step - loss: 0.2875 - accuracy: 0.8948 - val_loss: 0.3206 - val_accuracy: 0.8864\n",
      "Epoch 6/49\n",
      "1500/1500 [==============================] - 6s 4ms/step - loss: 0.2725 - accuracy: 0.8985 - val_loss: 0.3896 - val_accuracy: 0.8587\n",
      "Epoch 7/49\n",
      "1500/1500 [==============================] - 6s 4ms/step - loss: 0.2573 - accuracy: 0.9028 - val_loss: 0.3194 - val_accuracy: 0.8865\n",
      "Epoch 8/49\n",
      "1500/1500 [==============================] - 6s 4ms/step - loss: 0.2453 - accuracy: 0.9079 - val_loss: 0.3407 - val_accuracy: 0.8777\n",
      "Epoch 9/49\n",
      "1500/1500 [==============================] - 7s 5ms/step - loss: 0.2334 - accuracy: 0.9114 - val_loss: 0.3233 - val_accuracy: 0.8870\n",
      "Epoch 10/49\n",
      "1500/1500 [==============================] - 7s 5ms/step - loss: 0.2247 - accuracy: 0.9159 - val_loss: 0.3358 - val_accuracy: 0.8852\n",
      "Epoch 11/49\n",
      "1500/1500 [==============================] - 5s 4ms/step - loss: 0.2174 - accuracy: 0.9183 - val_loss: 0.3352 - val_accuracy: 0.8885\n",
      "Epoch 12/49\n",
      "1500/1500 [==============================] - 6s 4ms/step - loss: 0.2069 - accuracy: 0.9216 - val_loss: 0.3152 - val_accuracy: 0.8920\n",
      "Epoch 13/49\n",
      "1500/1500 [==============================] - 8s 5ms/step - loss: 0.1990 - accuracy: 0.9251 - val_loss: 0.3233 - val_accuracy: 0.8905\n",
      "Epoch 14/49\n",
      "1500/1500 [==============================] - 6s 4ms/step - loss: 0.1937 - accuracy: 0.9281 - val_loss: 0.3395 - val_accuracy: 0.8878\n",
      "Epoch 15/49\n",
      "1500/1500 [==============================] - 6s 4ms/step - loss: 0.1832 - accuracy: 0.9308 - val_loss: 0.3317 - val_accuracy: 0.8905\n",
      "Epoch 16/49\n",
      "1500/1500 [==============================] - 6s 4ms/step - loss: 0.1788 - accuracy: 0.9339 - val_loss: 0.3329 - val_accuracy: 0.8942\n",
      "Epoch 17/49\n",
      "1500/1500 [==============================] - 6s 4ms/step - loss: 0.1723 - accuracy: 0.9350 - val_loss: 0.3293 - val_accuracy: 0.8947\n",
      "Epoch 18/49\n",
      "1500/1500 [==============================] - 5s 4ms/step - loss: 0.1674 - accuracy: 0.9370 - val_loss: 0.3240 - val_accuracy: 0.8942\n",
      "Epoch 19/49\n",
      "1500/1500 [==============================] - 6s 4ms/step - loss: 0.1596 - accuracy: 0.9394 - val_loss: 0.3641 - val_accuracy: 0.8892\n",
      "Epoch 20/49\n",
      "1500/1500 [==============================] - 6s 4ms/step - loss: 0.1565 - accuracy: 0.9416 - val_loss: 0.3517 - val_accuracy: 0.8929\n",
      "Epoch 21/49\n",
      "1500/1500 [==============================] - 6s 4ms/step - loss: 0.1524 - accuracy: 0.9423 - val_loss: 0.3510 - val_accuracy: 0.8973\n",
      "Epoch 22/49\n",
      "1500/1500 [==============================] - 6s 4ms/step - loss: 0.1470 - accuracy: 0.9448 - val_loss: 0.3523 - val_accuracy: 0.8928\n",
      "Epoch 23/49\n",
      "1500/1500 [==============================] - 6s 4ms/step - loss: 0.1436 - accuracy: 0.9460 - val_loss: 0.3580 - val_accuracy: 0.8896\n",
      "Epoch 24/49\n",
      "1500/1500 [==============================] - 7s 5ms/step - loss: 0.1364 - accuracy: 0.9496 - val_loss: 0.3807 - val_accuracy: 0.8988\n",
      "Epoch 25/49\n",
      "1500/1500 [==============================] - 6s 4ms/step - loss: 0.1342 - accuracy: 0.9497 - val_loss: 0.3689 - val_accuracy: 0.8964\n",
      "Epoch 26/49\n",
      "1500/1500 [==============================] - 5s 4ms/step - loss: 0.1291 - accuracy: 0.9508 - val_loss: 0.3913 - val_accuracy: 0.8941\n",
      "Epoch 27/49\n",
      "1500/1500 [==============================] - 6s 4ms/step - loss: 0.1268 - accuracy: 0.9522 - val_loss: 0.4241 - val_accuracy: 0.8853\n",
      "Epoch 28/49\n",
      "1500/1500 [==============================] - 5s 4ms/step - loss: 0.1226 - accuracy: 0.9538 - val_loss: 0.3931 - val_accuracy: 0.8976\n",
      "Epoch 29/49\n",
      "1500/1500 [==============================] - 6s 4ms/step - loss: 0.1214 - accuracy: 0.9550 - val_loss: 0.3952 - val_accuracy: 0.8961\n",
      "Epoch 30/49\n",
      "1500/1500 [==============================] - 6s 4ms/step - loss: 0.1166 - accuracy: 0.9569 - val_loss: 0.3994 - val_accuracy: 0.8985\n",
      "Epoch 31/49\n",
      "1500/1500 [==============================] - 6s 4ms/step - loss: 0.1134 - accuracy: 0.9581 - val_loss: 0.4509 - val_accuracy: 0.8863\n",
      "Epoch 32/49\n",
      "1500/1500 [==============================] - 5s 4ms/step - loss: 0.1131 - accuracy: 0.9581 - val_loss: 0.4183 - val_accuracy: 0.8881\n",
      "Epoch 33/49\n",
      "1500/1500 [==============================] - 6s 4ms/step - loss: 0.1092 - accuracy: 0.9595 - val_loss: 0.4359 - val_accuracy: 0.8882\n",
      "Epoch 34/49\n",
      "1500/1500 [==============================] - 6s 4ms/step - loss: 0.1043 - accuracy: 0.9610 - val_loss: 0.4445 - val_accuracy: 0.8941\n",
      "Epoch 35/49\n",
      "1500/1500 [==============================] - 6s 4ms/step - loss: 0.1062 - accuracy: 0.9606 - val_loss: 0.4288 - val_accuracy: 0.8932\n",
      "Epoch 36/49\n",
      "1500/1500 [==============================] - 6s 4ms/step - loss: 0.0998 - accuracy: 0.9630 - val_loss: 0.4341 - val_accuracy: 0.8932\n",
      "Epoch 37/49\n",
      "1500/1500 [==============================] - 6s 4ms/step - loss: 0.0977 - accuracy: 0.9634 - val_loss: 0.4380 - val_accuracy: 0.8913\n",
      "Epoch 38/49\n",
      "1500/1500 [==============================] - 6s 4ms/step - loss: 0.0970 - accuracy: 0.9649 - val_loss: 0.4625 - val_accuracy: 0.8925\n",
      "Epoch 39/49\n",
      "1500/1500 [==============================] - 6s 4ms/step - loss: 0.0932 - accuracy: 0.9655 - val_loss: 0.4903 - val_accuracy: 0.8892\n",
      "Epoch 40/49\n",
      "1500/1500 [==============================] - 6s 4ms/step - loss: 0.0933 - accuracy: 0.9652 - val_loss: 0.4703 - val_accuracy: 0.8942\n",
      "Epoch 41/49\n",
      "1500/1500 [==============================] - 6s 4ms/step - loss: 0.0848 - accuracy: 0.9680 - val_loss: 0.4570 - val_accuracy: 0.8886\n",
      "Epoch 42/49\n",
      "1500/1500 [==============================] - 7s 4ms/step - loss: 0.0878 - accuracy: 0.9667 - val_loss: 0.5039 - val_accuracy: 0.8925\n",
      "Epoch 43/49\n",
      "1500/1500 [==============================] - 6s 4ms/step - loss: 0.0851 - accuracy: 0.9673 - val_loss: 0.5069 - val_accuracy: 0.8911\n",
      "Epoch 44/49\n",
      "1500/1500 [==============================] - 7s 5ms/step - loss: 0.0877 - accuracy: 0.9672 - val_loss: 0.5225 - val_accuracy: 0.8884\n",
      "Epoch 45/49\n",
      "1500/1500 [==============================] - 9s 6ms/step - loss: 0.0789 - accuracy: 0.9706 - val_loss: 0.4865 - val_accuracy: 0.8928\n",
      "Epoch 46/49\n",
      "1500/1500 [==============================] - 8s 5ms/step - loss: 0.0825 - accuracy: 0.9694 - val_loss: 0.5229 - val_accuracy: 0.8893\n",
      "Epoch 47/49\n",
      "1500/1500 [==============================] - 7s 4ms/step - loss: 0.0812 - accuracy: 0.9700 - val_loss: 0.4728 - val_accuracy: 0.8985\n",
      "Epoch 48/49\n",
      "1500/1500 [==============================] - 7s 4ms/step - loss: 0.0744 - accuracy: 0.9723 - val_loss: 0.5074 - val_accuracy: 0.8949\n",
      "Epoch 49/49\n",
      "1500/1500 [==============================] - 7s 5ms/step - loss: 0.0730 - accuracy: 0.9729 - val_loss: 0.5297 - val_accuracy: 0.8903\n"
     ]
    },
    {
     "data": {
      "text/plain": [
       "<keras.callbacks.History at 0x7fb8017adc50>"
      ]
     },
     "execution_count": 9,
     "metadata": {},
     "output_type": "execute_result"
    }
   ],
   "source": [
    "hypermodel = tuner.hypermodel.build(best_hps)\n",
    "\n",
    "# Retrain the model\n",
    "hypermodel.fit(img_train, label_train, epochs=best_epoch, validation_split=0.2)"
   ]
  },
  {
   "cell_type": "code",
   "execution_count": 10,
   "metadata": {},
   "outputs": [
    {
     "name": "stdout",
     "output_type": "stream",
     "text": [
      "313/313 [==============================] - 1s 3ms/step - loss: 0.5891 - accuracy: 0.8864\n",
      "[test loss, test accuracy]: [0.5891376733779907, 0.8863999843597412]\n"
     ]
    }
   ],
   "source": [
    "eval_result = hypermodel.evaluate(img_test, label_test)\n",
    "print(\"[test loss, test accuracy]:\", eval_result)"
   ]
  },
  {
   "cell_type": "code",
   "execution_count": null,
   "metadata": {},
   "outputs": [],
   "source": []
  }
 ],
 "metadata": {
  "kernelspec": {
   "display_name": "Python 3",
   "language": "python",
   "name": "python3"
  },
  "language_info": {
   "codemirror_mode": {
    "name": "ipython",
    "version": 3
   },
   "file_extension": ".py",
   "mimetype": "text/x-python",
   "name": "python",
   "nbconvert_exporter": "python",
   "pygments_lexer": "ipython3",
   "version": "3.7.4"
  }
 },
 "nbformat": 4,
 "nbformat_minor": 2
}
