{
 "cells": [
  {
   "cell_type": "code",
   "execution_count": 1,
   "metadata": {},
   "outputs": [],
   "source": [
    "import tensorflow as tf"
   ]
  },
  {
   "cell_type": "markdown",
   "metadata": {},
   "source": [
    "##### The Data API"
   ]
  },
  {
   "cell_type": "code",
   "execution_count": 2,
   "metadata": {},
   "outputs": [
    {
     "name": "stdout",
     "output_type": "stream",
     "text": [
      "Metal device set to: Apple M1\n"
     ]
    },
    {
     "name": "stderr",
     "output_type": "stream",
     "text": [
      "2021-12-17 17:10:20.744296: I tensorflow/core/common_runtime/pluggable_device/pluggable_device_factory.cc:305] Could not identify NUMA node of platform GPU ID 0, defaulting to 0. Your kernel may not have been built with NUMA support.\n",
      "2021-12-17 17:10:20.744549: I tensorflow/core/common_runtime/pluggable_device/pluggable_device_factory.cc:271] Created TensorFlow device (/job:localhost/replica:0/task:0/device:GPU:0 with 0 MB memory) -> physical PluggableDevice (device: 0, name: METAL, pci bus id: <undefined>)\n"
     ]
    },
    {
     "data": {
      "text/plain": [
       "<tf.Tensor: shape=(10,), dtype=int32, numpy=array([0, 1, 2, 3, 4, 5, 6, 7, 8, 9], dtype=int32)>"
      ]
     },
     "execution_count": 2,
     "metadata": {},
     "output_type": "execute_result"
    }
   ],
   "source": [
    "X = tf.range(10)\n",
    "X"
   ]
  },
  {
   "cell_type": "code",
   "execution_count": 3,
   "metadata": {},
   "outputs": [
    {
     "data": {
      "text/plain": [
       "<TensorSliceDataset shapes: (), types: tf.int32>"
      ]
     },
     "execution_count": 3,
     "metadata": {},
     "output_type": "execute_result"
    }
   ],
   "source": [
    "dataset = tf.data.Dataset.from_tensor_slices(X)\n",
    "dataset"
   ]
  },
  {
   "cell_type": "code",
   "execution_count": 4,
   "metadata": {},
   "outputs": [
    {
     "name": "stdout",
     "output_type": "stream",
     "text": [
      "tf.Tensor(0, shape=(), dtype=int32)\n",
      "tf.Tensor(1, shape=(), dtype=int32)\n",
      "tf.Tensor(2, shape=(), dtype=int32)\n",
      "tf.Tensor(3, shape=(), dtype=int32)\n",
      "tf.Tensor(4, shape=(), dtype=int32)\n",
      "tf.Tensor(5, shape=(), dtype=int32)\n",
      "tf.Tensor(6, shape=(), dtype=int32)\n",
      "tf.Tensor(7, shape=(), dtype=int32)\n",
      "tf.Tensor(8, shape=(), dtype=int32)\n",
      "tf.Tensor(9, shape=(), dtype=int32)\n"
     ]
    }
   ],
   "source": [
    "for item in dataset:\n",
    "    print(item)"
   ]
  },
  {
   "cell_type": "markdown",
   "metadata": {},
   "source": [
    "#####  Chaining Transformation"
   ]
  },
  {
   "cell_type": "code",
   "execution_count": 5,
   "metadata": {},
   "outputs": [
    {
     "name": "stdout",
     "output_type": "stream",
     "text": [
      "tf.Tensor([0 1 2 3 4 5 6], shape=(7,), dtype=int32)\n",
      "tf.Tensor([7 8 9 0 1 2 3], shape=(7,), dtype=int32)\n",
      "tf.Tensor([4 5 6 7 8 9 0], shape=(7,), dtype=int32)\n",
      "tf.Tensor([1 2 3 4 5 6 7], shape=(7,), dtype=int32)\n",
      "tf.Tensor([8 9], shape=(2,), dtype=int32)\n"
     ]
    }
   ],
   "source": [
    "#dataset = dataset.batch(7).repeat(3)\n",
    "dataset = dataset.repeat(3).batch(7)\n",
    "for item in dataset:\n",
    "    print(item)"
   ]
  },
  {
   "cell_type": "code",
   "execution_count": 6,
   "metadata": {},
   "outputs": [
    {
     "name": "stdout",
     "output_type": "stream",
     "text": [
      "tf.Tensor([ 0  2  4  6  8 10 12], shape=(7,), dtype=int32)\n",
      "tf.Tensor([14 16 18  0  2  4  6], shape=(7,), dtype=int32)\n",
      "tf.Tensor([ 8 10 12 14 16 18  0], shape=(7,), dtype=int32)\n",
      "tf.Tensor([ 2  4  6  8 10 12 14], shape=(7,), dtype=int32)\n",
      "tf.Tensor([16 18], shape=(2,), dtype=int32)\n"
     ]
    },
    {
     "name": "stderr",
     "output_type": "stream",
     "text": [
      "2021-12-17 17:10:31.767100: W tensorflow/core/platform/profile_utils/cpu_utils.cc:128] Failed to get CPU frequency: 0 Hz\n"
     ]
    }
   ],
   "source": [
    "dataset = dataset.map(lambda x: x * 2)\n",
    "for item in dataset:\n",
    "    print(item)"
   ]
  },
  {
   "cell_type": "code",
   "execution_count": 7,
   "metadata": {},
   "outputs": [
    {
     "name": "stdout",
     "output_type": "stream",
     "text": [
      "WARNING:tensorflow:From /var/folders/fv/z57dkw050td4yrrln0jg6w200000gn/T/ipykernel_17743/3309785605.py:1: unbatch (from tensorflow.python.data.experimental.ops.batching) is deprecated and will be removed in a future version.\n",
      "Instructions for updating:\n",
      "Use `tf.data.Dataset.unbatch()`.\n",
      "tf.Tensor(0, shape=(), dtype=int32)\n",
      "tf.Tensor(2, shape=(), dtype=int32)\n",
      "tf.Tensor(4, shape=(), dtype=int32)\n",
      "tf.Tensor(6, shape=(), dtype=int32)\n",
      "tf.Tensor(8, shape=(), dtype=int32)\n",
      "tf.Tensor(10, shape=(), dtype=int32)\n",
      "tf.Tensor(12, shape=(), dtype=int32)\n",
      "tf.Tensor(14, shape=(), dtype=int32)\n",
      "tf.Tensor(16, shape=(), dtype=int32)\n",
      "tf.Tensor(18, shape=(), dtype=int32)\n",
      "tf.Tensor(0, shape=(), dtype=int32)\n",
      "tf.Tensor(2, shape=(), dtype=int32)\n",
      "tf.Tensor(4, shape=(), dtype=int32)\n",
      "tf.Tensor(6, shape=(), dtype=int32)\n",
      "tf.Tensor(8, shape=(), dtype=int32)\n",
      "tf.Tensor(10, shape=(), dtype=int32)\n",
      "tf.Tensor(12, shape=(), dtype=int32)\n",
      "tf.Tensor(14, shape=(), dtype=int32)\n",
      "tf.Tensor(16, shape=(), dtype=int32)\n",
      "tf.Tensor(18, shape=(), dtype=int32)\n",
      "tf.Tensor(0, shape=(), dtype=int32)\n",
      "tf.Tensor(2, shape=(), dtype=int32)\n",
      "tf.Tensor(4, shape=(), dtype=int32)\n",
      "tf.Tensor(6, shape=(), dtype=int32)\n",
      "tf.Tensor(8, shape=(), dtype=int32)\n",
      "tf.Tensor(10, shape=(), dtype=int32)\n",
      "tf.Tensor(12, shape=(), dtype=int32)\n",
      "tf.Tensor(14, shape=(), dtype=int32)\n",
      "tf.Tensor(16, shape=(), dtype=int32)\n",
      "tf.Tensor(18, shape=(), dtype=int32)\n"
     ]
    }
   ],
   "source": [
    "dataset = dataset.apply(tf.data.experimental.unbatch())\n",
    "for item in dataset:\n",
    "    print(item)"
   ]
  },
  {
   "cell_type": "code",
   "execution_count": 8,
   "metadata": {},
   "outputs": [
    {
     "name": "stdout",
     "output_type": "stream",
     "text": [
      "tf.Tensor(0, shape=(), dtype=int32)\n",
      "tf.Tensor(2, shape=(), dtype=int32)\n",
      "tf.Tensor(4, shape=(), dtype=int32)\n",
      "tf.Tensor(6, shape=(), dtype=int32)\n",
      "tf.Tensor(8, shape=(), dtype=int32)\n",
      "tf.Tensor(0, shape=(), dtype=int32)\n",
      "tf.Tensor(2, shape=(), dtype=int32)\n",
      "tf.Tensor(4, shape=(), dtype=int32)\n",
      "tf.Tensor(6, shape=(), dtype=int32)\n",
      "tf.Tensor(8, shape=(), dtype=int32)\n",
      "tf.Tensor(0, shape=(), dtype=int32)\n",
      "tf.Tensor(2, shape=(), dtype=int32)\n",
      "tf.Tensor(4, shape=(), dtype=int32)\n",
      "tf.Tensor(6, shape=(), dtype=int32)\n",
      "tf.Tensor(8, shape=(), dtype=int32)\n"
     ]
    }
   ],
   "source": [
    "dataset = dataset.filter(lambda x: x < 10)\n",
    "for item in dataset:\n",
    "    print(item)"
   ]
  },
  {
   "cell_type": "code",
   "execution_count": 9,
   "metadata": {},
   "outputs": [
    {
     "name": "stdout",
     "output_type": "stream",
     "text": [
      "tf.Tensor([0 2 4 6 8], shape=(5,), dtype=int32)\n",
      "tf.Tensor([0 2 4 6 8], shape=(5,), dtype=int32)\n",
      "tf.Tensor([0 2 4 6 8], shape=(5,), dtype=int32)\n"
     ]
    }
   ],
   "source": [
    "for item in dataset.batch(5):\n",
    "    print(item)"
   ]
  },
  {
   "cell_type": "markdown",
   "metadata": {},
   "source": [
    "##### Shuffling the Data"
   ]
  },
  {
   "cell_type": "code",
   "execution_count": 10,
   "metadata": {},
   "outputs": [
    {
     "name": "stdout",
     "output_type": "stream",
     "text": [
      "tf.Tensor([0 2 3 6 7 9 4], shape=(7,), dtype=int64)\n",
      "tf.Tensor([5 0 1 1 8 6 5], shape=(7,), dtype=int64)\n",
      "tf.Tensor([4 8 7 1 2 3 0], shape=(7,), dtype=int64)\n",
      "tf.Tensor([5 4 2 7 8 9 9], shape=(7,), dtype=int64)\n",
      "tf.Tensor([3 6], shape=(2,), dtype=int64)\n"
     ]
    }
   ],
   "source": [
    "dataset = tf.data.Dataset.range(10).repeat(3)\n",
    "dataset = dataset.shuffle(buffer_size=5, seed=42).batch(7)\n",
    "for item in dataset:\n",
    "    print(item)"
   ]
  },
  {
   "cell_type": "code",
   "execution_count": 11,
   "metadata": {},
   "outputs": [
    {
     "name": "stdout",
     "output_type": "stream",
     "text": [
      "tf.Tensor([0 2 3 6 7 9 4], shape=(7,), dtype=int64)\n",
      "tf.Tensor([5 0 1 1 8 6 5], shape=(7,), dtype=int64)\n",
      "tf.Tensor([4 8 7 1 2 3 0], shape=(7,), dtype=int64)\n",
      "tf.Tensor([5 4 2 7 8 9 9], shape=(7,), dtype=int64)\n",
      "tf.Tensor([3 6], shape=(2,), dtype=int64)\n"
     ]
    }
   ],
   "source": [
    "dataset = tf.data.Dataset.range(10).repeat(3)\n",
    "dataset = dataset.shuffle(buffer_size=5, seed=42).batch(7)\n",
    "for item in dataset:\n",
    "    print(item)"
   ]
  },
  {
   "cell_type": "markdown",
   "metadata": {},
   "source": [
    "##### test interleaving multi files"
   ]
  },
  {
   "cell_type": "code",
   "execution_count": 12,
   "metadata": {},
   "outputs": [],
   "source": [
    "import numpy as np\n",
    "import pandas as pd"
   ]
  },
  {
   "cell_type": "code",
   "execution_count": 13,
   "metadata": {},
   "outputs": [],
   "source": [
    "def generate_multi_rand_csv(size):\n",
    "    dir_path = './data/multi-rand-csv/'\n",
    "    file_tmpl = 'file-{}.csv'\n",
    "    df = pd.DataFrame(np.random.randn(10, 5))\n",
    "    for i in range(size):\n",
    "        df_i = df.copy()\n",
    "        df_i['file'] = i\n",
    "        file_path = dir_path + file_tmpl.format(i)\n",
    "        df_i.to_csv(file_path)#, index=False)"
   ]
  },
  {
   "cell_type": "code",
   "execution_count": 14,
   "metadata": {},
   "outputs": [],
   "source": [
    "generate_multi_rand_csv(20)"
   ]
  },
  {
   "cell_type": "code",
   "execution_count": 20,
   "metadata": {},
   "outputs": [
    {
     "data": {
      "text/plain": [
       "<ShuffleDataset shapes: (), types: tf.string>"
      ]
     },
     "execution_count": 20,
     "metadata": {},
     "output_type": "execute_result"
    }
   ],
   "source": [
    "file_dataset = tf.data.Dataset.list_files('./data/multi-rand-csv/file-*.csv')\n",
    "file_dataset"
   ]
  },
  {
   "cell_type": "code",
   "execution_count": 27,
   "metadata": {},
   "outputs": [
    {
     "name": "stdout",
     "output_type": "stream",
     "text": [
      "tf.Tensor(b'./data/multi-rand-csv/file-8.csv', shape=(), dtype=string)\n",
      "tf.Tensor(b'./data/multi-rand-csv/file-1.csv', shape=(), dtype=string)\n",
      "tf.Tensor(b'./data/multi-rand-csv/file-17.csv', shape=(), dtype=string)\n"
     ]
    }
   ],
   "source": [
    "for file_item in file_dataset.take(3):\n",
    "    print(file_item)"
   ]
  },
  {
   "cell_type": "code",
   "execution_count": 22,
   "metadata": {},
   "outputs": [],
   "source": [
    "n_readers = 4\n",
    "dataset = file_dataset.interleave(\n",
    "    lambda filepath: tf.data.TextLineDataset(filepath).skip(1),\n",
    "    cycle_length=n_readers)"
   ]
  },
  {
   "cell_type": "code",
   "execution_count": 26,
   "metadata": {},
   "outputs": [
    {
     "name": "stdout",
     "output_type": "stream",
     "text": [
      "tf.Tensor(b'0,1.2807214201858248,1.4253840264420519,-0.6209461042979402,0.2500863220852479,-2.5131070597123633,0', shape=(), dtype=string)\n",
      "tf.Tensor(b'0,1.2807214201858248,1.4253840264420519,-0.6209461042979402,0.2500863220852479,-2.5131070597123633,4', shape=(), dtype=string)\n",
      "tf.Tensor(b'0,1.2807214201858248,1.4253840264420519,-0.6209461042979402,0.2500863220852479,-2.5131070597123633,19', shape=(), dtype=string)\n",
      "tf.Tensor(b'0,1.2807214201858248,1.4253840264420519,-0.6209461042979402,0.2500863220852479,-2.5131070597123633,16', shape=(), dtype=string)\n",
      "tf.Tensor(b'1,0.7100440030857657,0.6679281545587905,1.3182660185087884,0.5353127292112103,-0.6269608968443804,0', shape=(), dtype=string)\n",
      "tf.Tensor(b'1,0.7100440030857657,0.6679281545587905,1.3182660185087884,0.5353127292112103,-0.6269608968443804,4', shape=(), dtype=string)\n",
      "tf.Tensor(b'1,0.7100440030857657,0.6679281545587905,1.3182660185087884,0.5353127292112103,-0.6269608968443804,19', shape=(), dtype=string)\n",
      "tf.Tensor(b'1,0.7100440030857657,0.6679281545587905,1.3182660185087884,0.5353127292112103,-0.6269608968443804,16', shape=(), dtype=string)\n",
      "tf.Tensor(b'2,0.29781866973552024,-0.821492105593393,-1.1314055591024648,0.9418739191928962,1.5434509298621883,0', shape=(), dtype=string)\n",
      "tf.Tensor(b'2,0.29781866973552024,-0.821492105593393,-1.1314055591024648,0.9418739191928962,1.5434509298621883,4', shape=(), dtype=string)\n"
     ]
    }
   ],
   "source": [
    "for line in dataset.take(10):\n",
    "    print(line)"
   ]
  },
  {
   "cell_type": "code",
   "execution_count": 29,
   "metadata": {},
   "outputs": [],
   "source": [
    "n_inputs = 6\n",
    "def preprocess(line):\n",
    "    defs = [0.] * n_inputs + [tf.constant([], dtype=tf.float32)] \n",
    "    fields = tf.io.decode_csv(line, record_defaults=defs)\n",
    "    x = tf.stack(fields[:-1])\n",
    "    y = tf.stack(fields[-1:])\n",
    "    return x, y"
   ]
  },
  {
   "cell_type": "code",
   "execution_count": 31,
   "metadata": {},
   "outputs": [
    {
     "name": "stdout",
     "output_type": "stream",
     "text": [
      "tf.Tensor([ 0.         1.2807214  1.425384  -0.6209461  0.2500863 -2.513107 ], shape=(6,), dtype=float32)\n",
      "tf.Tensor([0.], shape=(1,), dtype=float32)\n"
     ]
    }
   ],
   "source": [
    "for line in dataset.take(1):\n",
    "    x, y = preprocess(line)\n",
    "    print(x)\n",
    "    print(y)"
   ]
  },
  {
   "cell_type": "code",
   "execution_count": 38,
   "metadata": {},
   "outputs": [],
   "source": [
    "n_parse_threads = 3\n",
    "shuffle_buffer_size = 1000\n",
    "repeat = 1\n",
    "batch_size = 32\n",
    "n_readers = 4\n",
    "dataset = file_dataset.interleave(\n",
    "        lambda filepath: tf.data.TextLineDataset(filepath).skip(1),\n",
    "        cycle_length=n_readers)\n",
    "dataset = dataset.map(preprocess, num_parallel_calls=n_parse_threads)\n",
    "dataset = dataset.shuffle(shuffle_buffer_size).repeat(repeat)\n",
    "dataset = dataset.batch(batch_size).prefetch(1)"
   ]
  },
  {
   "cell_type": "code",
   "execution_count": 39,
   "metadata": {},
   "outputs": [
    {
     "name": "stdout",
     "output_type": "stream",
     "text": [
      "tf.Tensor(\n",
      "[[ 9.         -1.3595622   0.17365299 -1.2531263   0.39650756  1.3467252 ]\n",
      " [ 8.         -0.12002534  0.8832705   1.5561962   0.17721292 -1.1692287 ]\n",
      " [ 2.          0.29781866 -0.8214921  -1.1314056   0.9418739   1.543451  ]\n",
      " [ 3.         -1.864165    0.94910604 -2.204692    1.1785688   1.0694499 ]\n",
      " [ 3.         -1.864165    0.94910604 -2.204692    1.1785688   1.0694499 ]\n",
      " [ 9.         -1.3595622   0.17365299 -1.2531263   0.39650756  1.3467252 ]\n",
      " [ 6.          1.2791651  -0.55894595 -0.55245787  0.49046767 -0.7541552 ]\n",
      " [ 5.         -0.22631189  1.1988922  -1.6093302  -0.09240708  1.404909  ]\n",
      " [ 4.         -1.1309483   0.28959596 -1.3947067   0.78634787 -0.15111268]\n",
      " [ 5.         -0.22631189  1.1988922  -1.6093302  -0.09240708  1.404909  ]\n",
      " [ 9.         -1.3595622   0.17365299 -1.2531263   0.39650756  1.3467252 ]\n",
      " [ 5.         -0.22631189  1.1988922  -1.6093302  -0.09240708  1.404909  ]\n",
      " [ 8.         -0.12002534  0.8832705   1.5561962   0.17721292 -1.1692287 ]\n",
      " [ 9.         -1.3595622   0.17365299 -1.2531263   0.39650756  1.3467252 ]\n",
      " [ 8.         -0.12002534  0.8832705   1.5561962   0.17721292 -1.1692287 ]\n",
      " [ 3.         -1.864165    0.94910604 -2.204692    1.1785688   1.0694499 ]\n",
      " [ 9.         -1.3595622   0.17365299 -1.2531263   0.39650756  1.3467252 ]\n",
      " [ 3.         -1.864165    0.94910604 -2.204692    1.1785688   1.0694499 ]\n",
      " [ 4.         -1.1309483   0.28959596 -1.3947067   0.78634787 -0.15111268]\n",
      " [ 1.          0.710044    0.66792816  1.318266    0.5353127  -0.6269609 ]\n",
      " [ 4.         -1.1309483   0.28959596 -1.3947067   0.78634787 -0.15111268]\n",
      " [ 8.         -0.12002534  0.8832705   1.5561962   0.17721292 -1.1692287 ]\n",
      " [ 0.          1.2807214   1.425384   -0.6209461   0.2500863  -2.513107  ]\n",
      " [ 3.         -1.864165    0.94910604 -2.204692    1.1785688   1.0694499 ]\n",
      " [ 2.          0.29781866 -0.8214921  -1.1314056   0.9418739   1.543451  ]\n",
      " [ 8.         -0.12002534  0.8832705   1.5561962   0.17721292 -1.1692287 ]\n",
      " [ 6.          1.2791651  -0.55894595 -0.55245787  0.49046767 -0.7541552 ]\n",
      " [ 3.         -1.864165    0.94910604 -2.204692    1.1785688   1.0694499 ]\n",
      " [ 6.          1.2791651  -0.55894595 -0.55245787  0.49046767 -0.7541552 ]\n",
      " [ 6.          1.2791651  -0.55894595 -0.55245787  0.49046767 -0.7541552 ]\n",
      " [ 4.         -1.1309483   0.28959596 -1.3947067   0.78634787 -0.15111268]\n",
      " [ 4.         -1.1309483   0.28959596 -1.3947067   0.78634787 -0.15111268]], shape=(32, 6), dtype=float32)\n",
      "tf.Tensor(\n",
      "[[18.]\n",
      " [12.]\n",
      " [10.]\n",
      " [ 1.]\n",
      " [ 5.]\n",
      " [17.]\n",
      " [19.]\n",
      " [11.]\n",
      " [ 1.]\n",
      " [19.]\n",
      " [ 1.]\n",
      " [14.]\n",
      " [19.]\n",
      " [ 2.]\n",
      " [ 6.]\n",
      " [12.]\n",
      " [ 5.]\n",
      " [ 2.]\n",
      " [10.]\n",
      " [ 7.]\n",
      " [ 3.]\n",
      " [ 5.]\n",
      " [ 0.]\n",
      " [15.]\n",
      " [ 4.]\n",
      " [16.]\n",
      " [17.]\n",
      " [ 3.]\n",
      " [14.]\n",
      " [ 9.]\n",
      " [ 4.]\n",
      " [17.]], shape=(32, 1), dtype=float32)\n",
      "tf.Tensor(\n",
      "[[ 7.         -0.75063735 -1.9149451   0.04828064 -1.3435869  -0.68039614]\n",
      " [ 6.          1.2791651  -0.55894595 -0.55245787  0.49046767 -0.7541552 ]\n",
      " [ 5.         -0.22631189  1.1988922  -1.6093302  -0.09240708  1.404909  ]\n",
      " [ 2.          0.29781866 -0.8214921  -1.1314056   0.9418739   1.543451  ]\n",
      " [ 4.         -1.1309483   0.28959596 -1.3947067   0.78634787 -0.15111268]\n",
      " [ 2.          0.29781866 -0.8214921  -1.1314056   0.9418739   1.543451  ]\n",
      " [ 2.          0.29781866 -0.8214921  -1.1314056   0.9418739   1.543451  ]\n",
      " [ 9.         -1.3595622   0.17365299 -1.2531263   0.39650756  1.3467252 ]\n",
      " [ 2.          0.29781866 -0.8214921  -1.1314056   0.9418739   1.543451  ]\n",
      " [ 3.         -1.864165    0.94910604 -2.204692    1.1785688   1.0694499 ]\n",
      " [ 2.          0.29781866 -0.8214921  -1.1314056   0.9418739   1.543451  ]\n",
      " [ 2.          0.29781866 -0.8214921  -1.1314056   0.9418739   1.543451  ]\n",
      " [ 2.          0.29781866 -0.8214921  -1.1314056   0.9418739   1.543451  ]\n",
      " [ 0.          1.2807214   1.425384   -0.6209461   0.2500863  -2.513107  ]\n",
      " [ 9.         -1.3595622   0.17365299 -1.2531263   0.39650756  1.3467252 ]\n",
      " [ 8.         -0.12002534  0.8832705   1.5561962   0.17721292 -1.1692287 ]\n",
      " [ 4.         -1.1309483   0.28959596 -1.3947067   0.78634787 -0.15111268]\n",
      " [ 2.          0.29781866 -0.8214921  -1.1314056   0.9418739   1.543451  ]\n",
      " [ 2.          0.29781866 -0.8214921  -1.1314056   0.9418739   1.543451  ]\n",
      " [ 6.          1.2791651  -0.55894595 -0.55245787  0.49046767 -0.7541552 ]\n",
      " [ 7.         -0.75063735 -1.9149451   0.04828064 -1.3435869  -0.68039614]\n",
      " [ 1.          0.710044    0.66792816  1.318266    0.5353127  -0.6269609 ]\n",
      " [ 9.         -1.3595622   0.17365299 -1.2531263   0.39650756  1.3467252 ]\n",
      " [ 4.         -1.1309483   0.28959596 -1.3947067   0.78634787 -0.15111268]\n",
      " [ 5.         -0.22631189  1.1988922  -1.6093302  -0.09240708  1.404909  ]\n",
      " [ 4.         -1.1309483   0.28959596 -1.3947067   0.78634787 -0.15111268]\n",
      " [ 1.          0.710044    0.66792816  1.318266    0.5353127  -0.6269609 ]\n",
      " [ 7.         -0.75063735 -1.9149451   0.04828064 -1.3435869  -0.68039614]\n",
      " [ 5.         -0.22631189  1.1988922  -1.6093302  -0.09240708  1.404909  ]\n",
      " [ 6.          1.2791651  -0.55894595 -0.55245787  0.49046767 -0.7541552 ]\n",
      " [ 0.          1.2807214   1.425384   -0.6209461   0.2500863  -2.513107  ]\n",
      " [ 5.         -0.22631189  1.1988922  -1.6093302  -0.09240708  1.404909  ]], shape=(32, 6), dtype=float32)\n",
      "tf.Tensor(\n",
      "[[17.]\n",
      " [12.]\n",
      " [17.]\n",
      " [ 5.]\n",
      " [11.]\n",
      " [ 8.]\n",
      " [ 7.]\n",
      " [ 3.]\n",
      " [ 0.]\n",
      " [10.]\n",
      " [13.]\n",
      " [19.]\n",
      " [11.]\n",
      " [17.]\n",
      " [12.]\n",
      " [10.]\n",
      " [15.]\n",
      " [12.]\n",
      " [16.]\n",
      " [ 1.]\n",
      " [ 0.]\n",
      " [ 9.]\n",
      " [ 8.]\n",
      " [ 8.]\n",
      " [10.]\n",
      " [ 6.]\n",
      " [17.]\n",
      " [13.]\n",
      " [13.]\n",
      " [11.]\n",
      " [18.]\n",
      " [ 9.]], shape=(32, 1), dtype=float32)\n",
      "tf.Tensor(\n",
      "[[ 0.          1.2807214   1.425384   -0.6209461   0.2500863  -2.513107  ]\n",
      " [ 6.          1.2791651  -0.55894595 -0.55245787  0.49046767 -0.7541552 ]\n",
      " [ 2.          0.29781866 -0.8214921  -1.1314056   0.9418739   1.543451  ]\n",
      " [ 0.          1.2807214   1.425384   -0.6209461   0.2500863  -2.513107  ]\n",
      " [ 0.          1.2807214   1.425384   -0.6209461   0.2500863  -2.513107  ]\n",
      " [ 4.         -1.1309483   0.28959596 -1.3947067   0.78634787 -0.15111268]\n",
      " [ 0.          1.2807214   1.425384   -0.6209461   0.2500863  -2.513107  ]\n",
      " [ 8.         -0.12002534  0.8832705   1.5561962   0.17721292 -1.1692287 ]\n",
      " [ 8.         -0.12002534  0.8832705   1.5561962   0.17721292 -1.1692287 ]\n",
      " [ 1.          0.710044    0.66792816  1.318266    0.5353127  -0.6269609 ]\n",
      " [ 9.         -1.3595622   0.17365299 -1.2531263   0.39650756  1.3467252 ]\n",
      " [ 8.         -0.12002534  0.8832705   1.5561962   0.17721292 -1.1692287 ]\n",
      " [ 1.          0.710044    0.66792816  1.318266    0.5353127  -0.6269609 ]\n",
      " [ 2.          0.29781866 -0.8214921  -1.1314056   0.9418739   1.543451  ]\n",
      " [ 6.          1.2791651  -0.55894595 -0.55245787  0.49046767 -0.7541552 ]\n",
      " [ 5.         -0.22631189  1.1988922  -1.6093302  -0.09240708  1.404909  ]\n",
      " [ 9.         -1.3595622   0.17365299 -1.2531263   0.39650756  1.3467252 ]\n",
      " [ 6.          1.2791651  -0.55894595 -0.55245787  0.49046767 -0.7541552 ]\n",
      " [ 0.          1.2807214   1.425384   -0.6209461   0.2500863  -2.513107  ]\n",
      " [ 7.         -0.75063735 -1.9149451   0.04828064 -1.3435869  -0.68039614]\n",
      " [ 4.         -1.1309483   0.28959596 -1.3947067   0.78634787 -0.15111268]\n",
      " [ 4.         -1.1309483   0.28959596 -1.3947067   0.78634787 -0.15111268]\n",
      " [ 6.          1.2791651  -0.55894595 -0.55245787  0.49046767 -0.7541552 ]\n",
      " [ 4.         -1.1309483   0.28959596 -1.3947067   0.78634787 -0.15111268]\n",
      " [ 0.          1.2807214   1.425384   -0.6209461   0.2500863  -2.513107  ]\n",
      " [ 3.         -1.864165    0.94910604 -2.204692    1.1785688   1.0694499 ]\n",
      " [ 9.         -1.3595622   0.17365299 -1.2531263   0.39650756  1.3467252 ]\n",
      " [ 5.         -0.22631189  1.1988922  -1.6093302  -0.09240708  1.404909  ]\n",
      " [ 5.         -0.22631189  1.1988922  -1.6093302  -0.09240708  1.404909  ]\n",
      " [ 2.          0.29781866 -0.8214921  -1.1314056   0.9418739   1.543451  ]\n",
      " [ 7.         -0.75063735 -1.9149451   0.04828064 -1.3435869  -0.68039614]\n",
      " [ 6.          1.2791651  -0.55894595 -0.55245787  0.49046767 -0.7541552 ]], shape=(32, 6), dtype=float32)\n",
      "tf.Tensor(\n",
      "[[10.]\n",
      " [ 6.]\n",
      " [18.]\n",
      " [16.]\n",
      " [ 1.]\n",
      " [19.]\n",
      " [ 4.]\n",
      " [ 4.]\n",
      " [18.]\n",
      " [11.]\n",
      " [10.]\n",
      " [13.]\n",
      " [12.]\n",
      " [14.]\n",
      " [13.]\n",
      " [ 8.]\n",
      " [15.]\n",
      " [16.]\n",
      " [19.]\n",
      " [ 4.]\n",
      " [ 9.]\n",
      " [14.]\n",
      " [10.]\n",
      " [ 7.]\n",
      " [ 6.]\n",
      " [ 7.]\n",
      " [ 4.]\n",
      " [ 3.]\n",
      " [ 7.]\n",
      " [ 1.]\n",
      " [14.]\n",
      " [ 8.]], shape=(32, 1), dtype=float32)\n",
      "tf.Tensor(\n",
      "[[ 8.         -0.12002534  0.8832705   1.5561962   0.17721292 -1.1692287 ]\n",
      " [ 8.         -0.12002534  0.8832705   1.5561962   0.17721292 -1.1692287 ]\n",
      " [ 8.         -0.12002534  0.8832705   1.5561962   0.17721292 -1.1692287 ]\n",
      " [ 5.         -0.22631189  1.1988922  -1.6093302  -0.09240708  1.404909  ]\n",
      " [ 5.         -0.22631189  1.1988922  -1.6093302  -0.09240708  1.404909  ]\n",
      " [ 2.          0.29781866 -0.8214921  -1.1314056   0.9418739   1.543451  ]\n",
      " [ 9.         -1.3595622   0.17365299 -1.2531263   0.39650756  1.3467252 ]\n",
      " [ 7.         -0.75063735 -1.9149451   0.04828064 -1.3435869  -0.68039614]\n",
      " [ 7.         -0.75063735 -1.9149451   0.04828064 -1.3435869  -0.68039614]\n",
      " [ 0.          1.2807214   1.425384   -0.6209461   0.2500863  -2.513107  ]\n",
      " [ 4.         -1.1309483   0.28959596 -1.3947067   0.78634787 -0.15111268]\n",
      " [ 1.          0.710044    0.66792816  1.318266    0.5353127  -0.6269609 ]\n",
      " [ 3.         -1.864165    0.94910604 -2.204692    1.1785688   1.0694499 ]\n",
      " [ 0.          1.2807214   1.425384   -0.6209461   0.2500863  -2.513107  ]\n",
      " [ 5.         -0.22631189  1.1988922  -1.6093302  -0.09240708  1.404909  ]\n",
      " [ 6.          1.2791651  -0.55894595 -0.55245787  0.49046767 -0.7541552 ]\n",
      " [ 1.          0.710044    0.66792816  1.318266    0.5353127  -0.6269609 ]\n",
      " [ 0.          1.2807214   1.425384   -0.6209461   0.2500863  -2.513107  ]\n",
      " [ 0.          1.2807214   1.425384   -0.6209461   0.2500863  -2.513107  ]\n",
      " [ 0.          1.2807214   1.425384   -0.6209461   0.2500863  -2.513107  ]\n",
      " [ 8.         -0.12002534  0.8832705   1.5561962   0.17721292 -1.1692287 ]\n",
      " [ 1.          0.710044    0.66792816  1.318266    0.5353127  -0.6269609 ]\n",
      " [ 2.          0.29781866 -0.8214921  -1.1314056   0.9418739   1.543451  ]\n",
      " [ 7.         -0.75063735 -1.9149451   0.04828064 -1.3435869  -0.68039614]\n",
      " [ 6.          1.2791651  -0.55894595 -0.55245787  0.49046767 -0.7541552 ]\n",
      " [ 7.         -0.75063735 -1.9149451   0.04828064 -1.3435869  -0.68039614]\n",
      " [ 9.         -1.3595622   0.17365299 -1.2531263   0.39650756  1.3467252 ]\n",
      " [ 7.         -0.75063735 -1.9149451   0.04828064 -1.3435869  -0.68039614]\n",
      " [ 7.         -0.75063735 -1.9149451   0.04828064 -1.3435869  -0.68039614]\n",
      " [ 7.         -0.75063735 -1.9149451   0.04828064 -1.3435869  -0.68039614]\n",
      " [ 1.          0.710044    0.66792816  1.318266    0.5353127  -0.6269609 ]\n",
      " [ 0.          1.2807214   1.425384   -0.6209461   0.2500863  -2.513107  ]], shape=(32, 6), dtype=float32)\n",
      "tf.Tensor(\n",
      "[[ 0.]\n",
      " [ 9.]\n",
      " [17.]\n",
      " [12.]\n",
      " [16.]\n",
      " [ 3.]\n",
      " [ 7.]\n",
      " [10.]\n",
      " [ 1.]\n",
      " [ 5.]\n",
      " [ 2.]\n",
      " [14.]\n",
      " [ 8.]\n",
      " [ 9.]\n",
      " [18.]\n",
      " [ 2.]\n",
      " [ 0.]\n",
      " [ 7.]\n",
      " [11.]\n",
      " [ 3.]\n",
      " [ 1.]\n",
      " [ 4.]\n",
      " [ 6.]\n",
      " [ 8.]\n",
      " [ 0.]\n",
      " [15.]\n",
      " [19.]\n",
      " [ 9.]\n",
      " [ 2.]\n",
      " [16.]\n",
      " [13.]\n",
      " [ 2.]], shape=(32, 1), dtype=float32)\n",
      "tf.Tensor(\n",
      "[[ 1.          0.710044    0.66792816  1.318266    0.5353127  -0.6269609 ]\n",
      " [ 5.         -0.22631189  1.1988922  -1.6093302  -0.09240708  1.404909  ]\n",
      " [ 1.          0.710044    0.66792816  1.318266    0.5353127  -0.6269609 ]\n",
      " [ 5.         -0.22631189  1.1988922  -1.6093302  -0.09240708  1.404909  ]\n",
      " [ 4.         -1.1309483   0.28959596 -1.3947067   0.78634787 -0.15111268]\n",
      " [ 3.         -1.864165    0.94910604 -2.204692    1.1785688   1.0694499 ]\n",
      " [ 5.         -0.22631189  1.1988922  -1.6093302  -0.09240708  1.404909  ]\n",
      " [ 9.         -1.3595622   0.17365299 -1.2531263   0.39650756  1.3467252 ]\n",
      " [ 6.          1.2791651  -0.55894595 -0.55245787  0.49046767 -0.7541552 ]\n",
      " [ 6.          1.2791651  -0.55894595 -0.55245787  0.49046767 -0.7541552 ]\n",
      " [ 8.         -0.12002534  0.8832705   1.5561962   0.17721292 -1.1692287 ]\n",
      " [ 3.         -1.864165    0.94910604 -2.204692    1.1785688   1.0694499 ]\n",
      " [ 0.          1.2807214   1.425384   -0.6209461   0.2500863  -2.513107  ]\n",
      " [ 7.         -0.75063735 -1.9149451   0.04828064 -1.3435869  -0.68039614]\n",
      " [ 3.         -1.864165    0.94910604 -2.204692    1.1785688   1.0694499 ]\n",
      " [ 9.         -1.3595622   0.17365299 -1.2531263   0.39650756  1.3467252 ]\n",
      " [ 3.         -1.864165    0.94910604 -2.204692    1.1785688   1.0694499 ]\n",
      " [ 4.         -1.1309483   0.28959596 -1.3947067   0.78634787 -0.15111268]\n",
      " [ 3.         -1.864165    0.94910604 -2.204692    1.1785688   1.0694499 ]\n",
      " [ 1.          0.710044    0.66792816  1.318266    0.5353127  -0.6269609 ]\n",
      " [ 7.         -0.75063735 -1.9149451   0.04828064 -1.3435869  -0.68039614]\n",
      " [ 1.          0.710044    0.66792816  1.318266    0.5353127  -0.6269609 ]\n",
      " [ 1.          0.710044    0.66792816  1.318266    0.5353127  -0.6269609 ]\n",
      " [ 5.         -0.22631189  1.1988922  -1.6093302  -0.09240708  1.404909  ]\n",
      " [ 4.         -1.1309483   0.28959596 -1.3947067   0.78634787 -0.15111268]\n",
      " [ 9.         -1.3595622   0.17365299 -1.2531263   0.39650756  1.3467252 ]\n",
      " [ 8.         -0.12002534  0.8832705   1.5561962   0.17721292 -1.1692287 ]\n",
      " [ 0.          1.2807214   1.425384   -0.6209461   0.2500863  -2.513107  ]\n",
      " [ 8.         -0.12002534  0.8832705   1.5561962   0.17721292 -1.1692287 ]\n",
      " [ 4.         -1.1309483   0.28959596 -1.3947067   0.78634787 -0.15111268]\n",
      " [ 3.         -1.864165    0.94910604 -2.204692    1.1785688   1.0694499 ]\n",
      " [ 9.         -1.3595622   0.17365299 -1.2531263   0.39650756  1.3467252 ]], shape=(32, 6), dtype=float32)\n",
      "tf.Tensor(\n",
      "[[10.]\n",
      " [ 5.]\n",
      " [ 8.]\n",
      " [ 2.]\n",
      " [18.]\n",
      " [ 4.]\n",
      " [ 6.]\n",
      " [ 0.]\n",
      " [ 4.]\n",
      " [ 3.]\n",
      " [ 7.]\n",
      " [ 6.]\n",
      " [ 8.]\n",
      " [ 5.]\n",
      " [19.]\n",
      " [11.]\n",
      " [18.]\n",
      " [ 5.]\n",
      " [14.]\n",
      " [ 5.]\n",
      " [ 6.]\n",
      " [15.]\n",
      " [ 2.]\n",
      " [ 4.]\n",
      " [16.]\n",
      " [16.]\n",
      " [ 2.]\n",
      " [14.]\n",
      " [ 3.]\n",
      " [12.]\n",
      " [ 0.]\n",
      " [ 6.]], shape=(32, 1), dtype=float32)\n",
      "tf.Tensor(\n",
      "[[ 7.         -0.75063735 -1.9149451   0.04828064 -1.3435869  -0.68039614]\n",
      " [ 2.          0.29781866 -0.8214921  -1.1314056   0.9418739   1.543451  ]\n",
      " [ 7.         -0.75063735 -1.9149451   0.04828064 -1.3435869  -0.68039614]\n",
      " [ 0.          1.2807214   1.425384   -0.6209461   0.2500863  -2.513107  ]\n",
      " [ 5.         -0.22631189  1.1988922  -1.6093302  -0.09240708  1.404909  ]\n",
      " [ 6.          1.2791651  -0.55894595 -0.55245787  0.49046767 -0.7541552 ]\n",
      " [ 3.         -1.864165    0.94910604 -2.204692    1.1785688   1.0694499 ]\n",
      " [ 1.          0.710044    0.66792816  1.318266    0.5353127  -0.6269609 ]\n",
      " [ 4.         -1.1309483   0.28959596 -1.3947067   0.78634787 -0.15111268]\n",
      " [ 7.         -0.75063735 -1.9149451   0.04828064 -1.3435869  -0.68039614]\n",
      " [ 6.          1.2791651  -0.55894595 -0.55245787  0.49046767 -0.7541552 ]\n",
      " [ 8.         -0.12002534  0.8832705   1.5561962   0.17721292 -1.1692287 ]\n",
      " [ 1.          0.710044    0.66792816  1.318266    0.5353127  -0.6269609 ]\n",
      " [ 0.          1.2807214   1.425384   -0.6209461   0.2500863  -2.513107  ]\n",
      " [ 2.          0.29781866 -0.8214921  -1.1314056   0.9418739   1.543451  ]\n",
      " [ 4.         -1.1309483   0.28959596 -1.3947067   0.78634787 -0.15111268]\n",
      " [ 2.          0.29781866 -0.8214921  -1.1314056   0.9418739   1.543451  ]\n",
      " [ 8.         -0.12002534  0.8832705   1.5561962   0.17721292 -1.1692287 ]\n",
      " [ 0.          1.2807214   1.425384   -0.6209461   0.2500863  -2.513107  ]\n",
      " [ 2.          0.29781866 -0.8214921  -1.1314056   0.9418739   1.543451  ]\n",
      " [ 1.          0.710044    0.66792816  1.318266    0.5353127  -0.6269609 ]\n",
      " [ 3.         -1.864165    0.94910604 -2.204692    1.1785688   1.0694499 ]\n",
      " [ 5.         -0.22631189  1.1988922  -1.6093302  -0.09240708  1.404909  ]\n",
      " [ 7.         -0.75063735 -1.9149451   0.04828064 -1.3435869  -0.68039614]\n",
      " [ 3.         -1.864165    0.94910604 -2.204692    1.1785688   1.0694499 ]\n",
      " [ 3.         -1.864165    0.94910604 -2.204692    1.1785688   1.0694499 ]\n",
      " [ 1.          0.710044    0.66792816  1.318266    0.5353127  -0.6269609 ]\n",
      " [ 6.          1.2791651  -0.55894595 -0.55245787  0.49046767 -0.7541552 ]\n",
      " [ 9.         -1.3595622   0.17365299 -1.2531263   0.39650756  1.3467252 ]\n",
      " [ 9.         -1.3595622   0.17365299 -1.2531263   0.39650756  1.3467252 ]\n",
      " [ 7.         -0.75063735 -1.9149451   0.04828064 -1.3435869  -0.68039614]\n",
      " [ 7.         -0.75063735 -1.9149451   0.04828064 -1.3435869  -0.68039614]], shape=(32, 6), dtype=float32)\n",
      "tf.Tensor(\n",
      "[[11.]\n",
      " [ 9.]\n",
      " [12.]\n",
      " [13.]\n",
      " [ 1.]\n",
      " [18.]\n",
      " [11.]\n",
      " [ 1.]\n",
      " [ 0.]\n",
      " [19.]\n",
      " [ 7.]\n",
      " [15.]\n",
      " [ 6.]\n",
      " [15.]\n",
      " [ 2.]\n",
      " [13.]\n",
      " [17.]\n",
      " [ 8.]\n",
      " [12.]\n",
      " [15.]\n",
      " [ 3.]\n",
      " [16.]\n",
      " [ 0.]\n",
      " [ 3.]\n",
      " [ 9.]\n",
      " [17.]\n",
      " [18.]\n",
      " [15.]\n",
      " [14.]\n",
      " [ 9.]\n",
      " [18.]\n",
      " [ 7.]], shape=(32, 1), dtype=float32)\n",
      "tf.Tensor(\n",
      "[[ 8.         -0.12002534  0.8832705   1.5561962   0.17721292 -1.1692287 ]\n",
      " [ 1.          0.710044    0.66792816  1.318266    0.5353127  -0.6269609 ]\n",
      " [ 1.          0.710044    0.66792816  1.318266    0.5353127  -0.6269609 ]\n",
      " [ 8.         -0.12002534  0.8832705   1.5561962   0.17721292 -1.1692287 ]\n",
      " [ 6.          1.2791651  -0.55894595 -0.55245787  0.49046767 -0.7541552 ]\n",
      " [ 9.         -1.3595622   0.17365299 -1.2531263   0.39650756  1.3467252 ]\n",
      " [ 5.         -0.22631189  1.1988922  -1.6093302  -0.09240708  1.404909  ]\n",
      " [ 3.         -1.864165    0.94910604 -2.204692    1.1785688   1.0694499 ]], shape=(8, 6), dtype=float32)\n",
      "tf.Tensor(\n",
      "[[11.]\n",
      " [16.]\n",
      " [19.]\n",
      " [14.]\n",
      " [ 5.]\n",
      " [13.]\n",
      " [15.]\n",
      " [13.]], shape=(8, 1), dtype=float32)\n"
     ]
    }
   ],
   "source": [
    "for X, Y in dataset:\n",
    "    print(X)\n",
    "    print(Y)"
   ]
  },
  {
   "cell_type": "markdown",
   "metadata": {},
   "source": [
    "##### split California dataset to multi csv files"
   ]
  },
  {
   "cell_type": "code",
   "execution_count": 41,
   "metadata": {},
   "outputs": [],
   "source": [
    "from sklearn.datasets import fetch_california_housing\n",
    "from sklearn.model_selection import train_test_split\n",
    "from sklearn.preprocessing import StandardScaler\n",
    "\n",
    "housing = fetch_california_housing()"
   ]
  },
  {
   "cell_type": "code",
   "execution_count": 43,
   "metadata": {},
   "outputs": [
    {
     "data": {
      "text/plain": [
       "array([4.526, 3.585, 3.521, ..., 0.923, 0.847, 0.894])"
      ]
     },
     "execution_count": 43,
     "metadata": {},
     "output_type": "execute_result"
    }
   ],
   "source": [
    "housing.target"
   ]
  },
  {
   "cell_type": "code",
   "execution_count": 44,
   "metadata": {},
   "outputs": [
    {
     "data": {
      "text/plain": [
       "array([[4.526],\n",
       "       [3.585],\n",
       "       [3.521],\n",
       "       ...,\n",
       "       [0.923],\n",
       "       [0.847],\n",
       "       [0.894]])"
      ]
     },
     "execution_count": 44,
     "metadata": {},
     "output_type": "execute_result"
    }
   ],
   "source": [
    "housing.target.reshape(-1, 1)"
   ]
  },
  {
   "cell_type": "code",
   "execution_count": 45,
   "metadata": {},
   "outputs": [],
   "source": [
    "X_train_full, X_test, y_train_full, y_test = train_test_split(\n",
    "    housing.data, housing.target.reshape(-1, 1), random_state=42)\n",
    "X_train, X_valid, y_train, y_valid = train_test_split(\n",
    "    X_train_full, y_train_full, random_state=42)"
   ]
  },
  {
   "cell_type": "code",
   "execution_count": 47,
   "metadata": {},
   "outputs": [
    {
     "name": "stdout",
     "output_type": "stream",
     "text": [
      "[ 3.89175860e+00  2.86245478e+01  5.45593655e+00  1.09963474e+00\n",
      "  1.42428122e+03  2.95886657e+00  3.56464315e+01 -1.19584363e+02] [1.90927329e+00 1.26409177e+01 2.55038070e+00 4.65460128e-01\n",
      " 1.09576000e+03 2.36138048e+00 2.13456672e+00 2.00093304e+00]\n"
     ]
    }
   ],
   "source": [
    "scaler = StandardScaler()\n",
    "scaler.fit(X_train)\n",
    "X_mean = scaler.mean_\n",
    "X_std = scaler.scale_\n",
    "print(X_mean, X_std)"
   ]
  },
  {
   "cell_type": "code",
   "execution_count": null,
   "metadata": {},
   "outputs": [],
   "source": []
  }
 ],
 "metadata": {
  "kernelspec": {
   "display_name": "Python 3 (ipykernel)",
   "language": "python",
   "name": "python3"
  },
  "language_info": {
   "codemirror_mode": {
    "name": "ipython",
    "version": 3
   },
   "file_extension": ".py",
   "mimetype": "text/x-python",
   "name": "python",
   "nbconvert_exporter": "python",
   "pygments_lexer": "ipython3",
   "version": "3.9.7"
  }
 },
 "nbformat": 4,
 "nbformat_minor": 2
}
