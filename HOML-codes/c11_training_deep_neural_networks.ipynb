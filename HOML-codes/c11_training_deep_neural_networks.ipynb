{
 "cells": [
  {
   "cell_type": "markdown",
   "id": "c1e2e5c0",
   "metadata": {},
   "source": [
    "### Setup"
   ]
  },
  {
   "cell_type": "code",
   "execution_count": 1,
   "id": "4813b12e",
   "metadata": {},
   "outputs": [
    {
     "name": "stdout",
     "output_type": "stream",
     "text": [
      "python version: sys.version_info(major=3, minor=9, micro=7, releaselevel='final', serial=0)\n",
      "sklearn version: 1.0.1\n",
      "tensorflow version: 2.7.0\n"
     ]
    }
   ],
   "source": [
    "import sys\n",
    "import sklearn\n",
    "import tensorflow as tf\n",
    "from tensorflow import keras\n",
    "print('python version:', sys.version_info)\n",
    "print('sklearn version:', sklearn.__version__)\n",
    "print('tensorflow version:', tf.__version__)"
   ]
  },
  {
   "cell_type": "code",
   "execution_count": 2,
   "id": "ef90a737",
   "metadata": {},
   "outputs": [],
   "source": [
    "%load_ext tensorboard\n",
    "%matplotlib inline\n",
    "import numpy as np\n",
    "import os\n",
    "np.random.seed(42)\n",
    "import matplotlib as mpl\n",
    "import matplotlib.pyplot as plt\n",
    "mpl.rc('axes', labelsize=14)\n",
    "mpl.rc('xtick', labelsize=12)\n",
    "mpl.rc('ytick', labelsize=12)"
   ]
  },
  {
   "cell_type": "code",
   "execution_count": 3,
   "id": "7175afd1",
   "metadata": {},
   "outputs": [],
   "source": [
    "PROJECT_ROOT_DIR = 'data'\n",
    "CHAPTER_ID = 'deep'\n",
    "IMAGES_PATH = os.path.join(PROJECT_ROOT_DIR, 'images', CHAPTER_ID)\n",
    "os.makedirs(IMAGES_PATH, exist_ok=True)\n",
    "\n",
    "def save_fig(fig_id, tight_layout=True, fig_extension='png', resolution=300):\n",
    "    path = os.path.join(IMAGES_PATH, fig_id + '.' + fig_extension)\n",
    "    print('Saving figure', fig_id)\n",
    "    if tight_layout:\n",
    "        plt.tight_layout()\n",
    "    plt.savefig(path, format=fig_extension, dpi=resolution)"
   ]
  },
  {
   "cell_type": "markdown",
   "id": "aa4fb879",
   "metadata": {},
   "source": [
    "### Vanishing/Exploding Gradients Problem"
   ]
  },
  {
   "cell_type": "code",
   "execution_count": 4,
   "id": "5962c395",
   "metadata": {},
   "outputs": [],
   "source": [
    "def logit(z):\n",
    "    return 1 / (1 + np.exp(-z))"
   ]
  },
  {
   "cell_type": "code",
   "execution_count": 5,
   "id": "23947201",
   "metadata": {},
   "outputs": [
    {
     "data": {
      "image/png": "[encoded data removed]",
      "text/plain": [
       "<Figure size 432x288 with 1 Axes>"
      ]
     },
     "metadata": {
      "needs_background": "light"
     },
     "output_type": "display_data"
    }
   ],
   "source": [
    "z = np.linspace(-5, 5, 200)\n",
    "plt.plot([-5, 5], [0, 0], 'k-')\n",
    "plt.plot([-5, 5], [1, 1], 'k--')\n",
    "plt.plot([0, 0], [-0.2, 1.2], 'k-')\n",
    "plt.plot([-5, 5], [-3/4, 7/4], 'g--')\n",
    "plt.plot(z, logit(z), 'b-', linewidth=2)\n",
    "props = dict(facecolor='black', shrink=0.1)\n",
    "plt.annotate('Saturating', xytext=(3.5, 0.7), xy=(5, 1), arrowprops=props, fontsize=14, ha='center')\n",
    "plt.annotate('Saturating', xytext=(-3.5, 0.3), xy=(-5, 0), arrowprops=props, fontsize=14, ha='center')\n",
    "plt.annotate('Linear', xytext=(2, 0.2), xy=(0, 0.5), arrowprops=props, fontsize=14, ha='center')\n",
    "plt.grid(True)\n",
    "plt.title(\"Sigmoid activation function\", fontsize=14)\n",
    "plt.axis([-5, 5, -0.2, 1.2])\n",
    "#save_fig('sigmoid_saturation_plot')\n",
    "plt.show()"
   ]
  },
  {
   "cell_type": "markdown",
   "id": "a96a9b4a",
   "metadata": {},
   "source": [
    "#### Xavier and He Initialization"
   ]
  },
  {
   "cell_type": "code",
   "execution_count": 6,
   "id": "722a82b5",
   "metadata": {},
   "outputs": [
    {
     "data": {
      "text/plain": [
       "['Constant',\n",
       " 'GlorotNormal',\n",
       " 'GlorotUniform',\n",
       " 'HeNormal',\n",
       " 'HeUniform',\n",
       " 'Identity',\n",
       " 'Initializer',\n",
       " 'LecunNormal',\n",
       " 'LecunUniform',\n",
       " 'Ones',\n",
       " 'Orthogonal',\n",
       " 'RandomNormal',\n",
       " 'RandomUniform',\n",
       " 'TruncatedNormal',\n",
       " 'VarianceScaling',\n",
       " 'Zeros',\n",
       " 'constant',\n",
       " 'deserialize',\n",
       " 'get',\n",
       " 'glorot_normal',\n",
       " 'glorot_uniform',\n",
       " 'he_normal',\n",
       " 'he_uniform',\n",
       " 'identity',\n",
       " 'lecun_normal',\n",
       " 'lecun_uniform',\n",
       " 'ones',\n",
       " 'orthogonal',\n",
       " 'random_normal',\n",
       " 'random_uniform',\n",
       " 'serialize',\n",
       " 'truncated_normal',\n",
       " 'variance_scaling',\n",
       " 'zeros']"
      ]
     },
     "execution_count": 6,
     "metadata": {},
     "output_type": "execute_result"
    }
   ],
   "source": [
    "[name for name in dir(keras.initializers) if not name.startswith('_')]"
   ]
  },
  {
   "cell_type": "code",
   "execution_count": 7,
   "id": "83cabb02",
   "metadata": {},
   "outputs": [
    {
     "data": {
      "text/plain": [
       "<keras.layers.core.dense.Dense at 0x158d82a90>"
      ]
     },
     "execution_count": 7,
     "metadata": {},
     "output_type": "execute_result"
    }
   ],
   "source": [
    "keras.layers.Dense(10, activation='relu', kernel_initializer='he_normal')"
   ]
  },
  {
   "cell_type": "code",
   "execution_count": 8,
   "id": "b5f50ebd",
   "metadata": {},
   "outputs": [
    {
     "data": {
      "text/plain": [
       "<keras.layers.core.dense.Dense at 0x158ef84f0>"
      ]
     },
     "execution_count": 8,
     "metadata": {},
     "output_type": "execute_result"
    }
   ],
   "source": [
    "init = keras.initializers.VarianceScaling(scale=2, mode='fan_avg', distribution='uniform')\n",
    "keras.layers.Dense(10, activation='relu', kernel_initializer=init)"
   ]
  },
  {
   "cell_type": "markdown",
   "id": "c3514e76",
   "metadata": {},
   "source": [
    "#### Nonsaturating Activation Functions"
   ]
  },
  {
   "cell_type": "markdown",
   "id": "33e8f209",
   "metadata": {},
   "source": [
    "##### Leaky ReLU"
   ]
  },
  {
   "cell_type": "code",
   "execution_count": 9,
   "id": "97a534b0",
   "metadata": {},
   "outputs": [],
   "source": [
    "def leaky_relu(z, alpha=0.01):\n",
    "    return np.maximum(alpha*z, z)"
   ]
  },
  {
   "cell_type": "code",
   "execution_count": 10,
   "id": "35e5455c",
   "metadata": {},
   "outputs": [
    {
     "data": {
      "image/png": "[encoded data removed]",
      "text/plain": [
       "<Figure size 432x288 with 1 Axes>"
      ]
     },
     "metadata": {
      "needs_background": "light"
     },
     "output_type": "display_data"
    }
   ],
   "source": [
    "plt.plot(z, leaky_relu(z, 0.05), 'b-', linewidth=2)\n",
    "plt.plot([-5, 5], [0, 0], 'k-')\n",
    "plt.plot([0, 0], [-0.5, 4.2], 'k-')\n",
    "plt.grid(True)\n",
    "props = dict(facecolor='black', shrink=0.1)\n",
    "plt.annotate('Leak', xytext=(-3.5, 0.5), xy=(-5, -0.2), arrowprops=props, fontsize=14, ha='center')\n",
    "plt.title('Leaky ReLU activation function', fontsize=14)\n",
    "plt.axis([-5, 5, -0.5, 4.2])\n",
    "#save_fig('leaky_relu_plot')\n",
    "plt.show()"
   ]
  },
  {
   "cell_type": "code",
   "execution_count": 11,
   "id": "9f686ac8",
   "metadata": {},
   "outputs": [
    {
     "data": {
      "text/plain": [
       "['deserialize',\n",
       " 'elu',\n",
       " 'exponential',\n",
       " 'gelu',\n",
       " 'get',\n",
       " 'hard_sigmoid',\n",
       " 'linear',\n",
       " 'relu',\n",
       " 'selu',\n",
       " 'serialize',\n",
       " 'sigmoid',\n",
       " 'softmax',\n",
       " 'softplus',\n",
       " 'softsign',\n",
       " 'swish',\n",
       " 'tanh']"
      ]
     },
     "execution_count": 11,
     "metadata": {},
     "output_type": "execute_result"
    }
   ],
   "source": [
    "[m for m in dir(keras.activations) if not m.startswith('_')]"
   ]
  },
  {
   "cell_type": "code",
   "execution_count": 12,
   "id": "43e2269d",
   "metadata": {},
   "outputs": [
    {
     "data": {
      "text/plain": [
       "['LeakyReLU', 'PReLU', 'ReLU', 'ThresholdedReLU']"
      ]
     },
     "execution_count": 12,
     "metadata": {},
     "output_type": "execute_result"
    }
   ],
   "source": [
    "[m for m in dir(keras.layers) if 'relu' in m.lower()]"
   ]
  },
  {
   "cell_type": "code",
   "execution_count": 13,
   "id": "067502eb",
   "metadata": {},
   "outputs": [],
   "source": [
    "n_valid = 5000\n",
    "(X_train_full, y_train_full), (X_test, y_test) = keras.datasets.fashion_mnist.load_data()\n",
    "X_train_full = X_train_full / 255.0\n",
    "X_test = X_test / 255.0\n",
    "X_valid, X_train = X_train_full[:n_valid], X_train_full[n_valid:]\n",
    "y_valid, y_train = y_train_full[:n_valid], y_train_full[n_valid:]"
   ]
  },
  {
   "cell_type": "code",
   "execution_count": 14,
   "id": "e431acbd",
   "metadata": {},
   "outputs": [
    {
     "name": "stdout",
     "output_type": "stream",
     "text": [
      "Metal device set to: Apple M1\n",
      "Model: \"sequential\"\n",
      "_________________________________________________________________\n",
      " Layer (type)                Output Shape              Param #   \n",
      "=================================================================\n",
      " flatten (Flatten)           (None, 784)               0         \n",
      "                                                                 \n",
      " dense_2 (Dense)             (None, 300)               235500    \n",
      "                                                                 \n",
      " re_lu (ReLU)                (None, 300)               0         \n",
      "                                                                 \n",
      " dense_3 (Dense)             (None, 100)               30100     \n",
      "                                                                 \n",
      " re_lu_1 (ReLU)              (None, 100)               0         \n",
      "                                                                 \n",
      " dense_4 (Dense)             (None, 10)                1010      \n",
      "                                                                 \n",
      "=================================================================\n",
      "Total params: 266,610\n",
      "Trainable params: 266,610\n",
      "Non-trainable params: 0\n",
      "_________________________________________________________________\n"
     ]
    },
    {
     "name": "stderr",
     "output_type": "stream",
     "text": [
      "2022-02-10 20:19:47.043588: I tensorflow/core/common_runtime/pluggable_device/pluggable_device_factory.cc:305] Could not identify NUMA node of platform GPU ID 0, defaulting to 0. Your kernel may not have been built with NUMA support.\n",
      "2022-02-10 20:19:47.043709: I tensorflow/core/common_runtime/pluggable_device/pluggable_device_factory.cc:271] Created TensorFlow device (/job:localhost/replica:0/task:0/device:GPU:0 with 0 MB memory) -> physical PluggableDevice (device: 0, name: METAL, pci bus id: <undefined>)\n"
     ]
    }
   ],
   "source": [
    "tf.random.set_seed(42)\n",
    "np.random.seed(42)\n",
    "model = keras.models.Sequential([\n",
    "    keras.layers.Flatten(input_shape=[28, 28]),\n",
    "    keras.layers.Dense(300, kernel_initializer='he_normal'),\n",
    "    keras.layers.ReLU(),\n",
    "    keras.layers.Dense(100, kernel_initializer='he_normal'),\n",
    "    keras.layers.ReLU(),\n",
    "    keras.layers.Dense(10, activation='softmax')\n",
    "])\n",
    "model.summary()"
   ]
  },
  {
   "cell_type": "code",
   "execution_count": 15,
   "id": "525ae2e5",
   "metadata": {},
   "outputs": [
    {
     "name": "stderr",
     "output_type": "stream",
     "text": [
      "2022-02-10 20:19:47.259448: W tensorflow/core/platform/profile_utils/cpu_utils.cc:128] Failed to get CPU frequency: 0 Hz\n",
      "2022-02-10 20:19:47.348269: I tensorflow/core/grappler/optimizers/custom_graph_optimizer_registry.cc:112] Plugin optimizer for device_type GPU is enabled.\n"
     ]
    },
    {
     "name": "stdout",
     "output_type": "stream",
     "text": [
      "Epoch 1/10\n",
      "1709/1719 [============================>.] - ETA: 0s - loss: 1.3338 - accuracy: 0.5965"
     ]
    },
    {
     "name": "stderr",
     "output_type": "stream",
     "text": [
      "2022-02-10 20:19:54.453261: I tensorflow/core/grappler/optimizers/custom_graph_optimizer_registry.cc:112] Plugin optimizer for device_type GPU is enabled.\n"
     ]
    },
    {
     "name": "stdout",
     "output_type": "stream",
     "text": [
      "1719/1719 [==============================] - 8s 4ms/step - loss: 1.3314 - accuracy: 0.5971 - val_loss: 0.8955 - val_accuracy: 0.7198\n",
      "Epoch 2/10\n",
      "1719/1719 [==============================] - 7s 4ms/step - loss: 0.8053 - accuracy: 0.7485 - val_loss: 0.7146 - val_accuracy: 0.7748\n",
      "Epoch 3/10\n",
      "1719/1719 [==============================] - 7s 4ms/step - loss: 0.6866 - accuracy: 0.7798 - val_loss: 0.6417 - val_accuracy: 0.7982\n",
      "Epoch 4/10\n",
      "1719/1719 [==============================] - 7s 4ms/step - loss: 0.6245 - accuracy: 0.7971 - val_loss: 0.5884 - val_accuracy: 0.8148\n",
      "Epoch 5/10\n",
      "1719/1719 [==============================] - 7s 4ms/step - loss: 0.5847 - accuracy: 0.8073 - val_loss: 0.5549 - val_accuracy: 0.8226\n",
      "Epoch 6/10\n",
      "1719/1719 [==============================] - 7s 4ms/step - loss: 0.5561 - accuracy: 0.8150 - val_loss: 0.5312 - val_accuracy: 0.8264\n",
      "Epoch 7/10\n",
      "1719/1719 [==============================] - 7s 4ms/step - loss: 0.5341 - accuracy: 0.8204 - val_loss: 0.5113 - val_accuracy: 0.8350\n",
      "Epoch 8/10\n",
      "1719/1719 [==============================] - 7s 4ms/step - loss: 0.5168 - accuracy: 0.8262 - val_loss: 0.5031 - val_accuracy: 0.8354\n",
      "Epoch 9/10\n",
      "1719/1719 [==============================] - 7s 4ms/step - loss: 0.5029 - accuracy: 0.8297 - val_loss: 0.4844 - val_accuracy: 0.8396\n",
      "Epoch 10/10\n",
      "1719/1719 [==============================] - 7s 4ms/step - loss: 0.4909 - accuracy: 0.8326 - val_loss: 0.4764 - val_accuracy: 0.8420\n"
     ]
    }
   ],
   "source": [
    "model.compile(loss='sparse_categorical_crossentropy', \n",
    "              optimizer=keras.optimizers.SGD(learning_rate=1e-3),\n",
    "              metrics=['accuracy'])\n",
    "history = model.fit(X_train, y_train, epochs=10,\n",
    "                    validation_data=(X_valid, y_valid))"
   ]
  },
  {
   "cell_type": "code",
   "execution_count": 16,
   "id": "5317a379",
   "metadata": {},
   "outputs": [
    {
     "name": "stdout",
     "output_type": "stream",
     "text": [
      "Model: \"sequential_1\"\n",
      "_________________________________________________________________\n",
      " Layer (type)                Output Shape              Param #   \n",
      "=================================================================\n",
      " flatten_1 (Flatten)         (None, 784)               0         \n",
      "                                                                 \n",
      " dense_5 (Dense)             (None, 300)               235500    \n",
      "                                                                 \n",
      " dense_6 (Dense)             (None, 100)               30100     \n",
      "                                                                 \n",
      " dense_7 (Dense)             (None, 10)                1010      \n",
      "                                                                 \n",
      "=================================================================\n",
      "Total params: 266,610\n",
      "Trainable params: 266,610\n",
      "Non-trainable params: 0\n",
      "_________________________________________________________________\n"
     ]
    }
   ],
   "source": [
    "tf.random.set_seed(42)\n",
    "np.random.seed(42)\n",
    "model = keras.models.Sequential([\n",
    "    keras.layers.Flatten(input_shape=[28, 28]),\n",
    "    keras.layers.Dense(300, kernel_initializer='he_normal', activation='relu'),\n",
    "    keras.layers.Dense(100, kernel_initializer='he_normal', activation='relu'),\n",
    "    keras.layers.Dense(10, activation='softmax')\n",
    "])\n",
    "model.summary()"
   ]
  },
  {
   "cell_type": "code",
   "execution_count": 17,
   "id": "fcce1ff3",
   "metadata": {},
   "outputs": [
    {
     "name": "stdout",
     "output_type": "stream",
     "text": [
      "Epoch 1/10\n",
      "  39/1719 [..............................] - ETA: 6s - loss: 2.3384 - accuracy: 0.1178"
     ]
    },
    {
     "name": "stderr",
     "output_type": "stream",
     "text": [
      "2022-02-10 20:20:59.770324: I tensorflow/core/grappler/optimizers/custom_graph_optimizer_registry.cc:112] Plugin optimizer for device_type GPU is enabled.\n"
     ]
    },
    {
     "name": "stdout",
     "output_type": "stream",
     "text": [
      "1719/1719 [==============================] - ETA: 0s - loss: 1.3314 - accuracy: 0.5971"
     ]
    },
    {
     "name": "stderr",
     "output_type": "stream",
     "text": [
      "2022-02-10 20:21:06.819143: I tensorflow/core/grappler/optimizers/custom_graph_optimizer_registry.cc:112] Plugin optimizer for device_type GPU is enabled.\n"
     ]
    },
    {
     "name": "stdout",
     "output_type": "stream",
     "text": [
      "1719/1719 [==============================] - 8s 4ms/step - loss: 1.3314 - accuracy: 0.5971 - val_loss: 0.8955 - val_accuracy: 0.7198\n",
      "Epoch 2/10\n",
      "1719/1719 [==============================] - 7s 4ms/step - loss: 0.8053 - accuracy: 0.7485 - val_loss: 0.7146 - val_accuracy: 0.7748\n",
      "Epoch 3/10\n",
      "1719/1719 [==============================] - 7s 4ms/step - loss: 0.6866 - accuracy: 0.7798 - val_loss: 0.6417 - val_accuracy: 0.7982\n",
      "Epoch 4/10\n",
      "1719/1719 [==============================] - 7s 4ms/step - loss: 0.6245 - accuracy: 0.7971 - val_loss: 0.5884 - val_accuracy: 0.8148\n",
      "Epoch 5/10\n",
      "1719/1719 [==============================] - 7s 4ms/step - loss: 0.5847 - accuracy: 0.8073 - val_loss: 0.5549 - val_accuracy: 0.8226\n",
      "Epoch 6/10\n",
      "1719/1719 [==============================] - 7s 4ms/step - loss: 0.5561 - accuracy: 0.8150 - val_loss: 0.5312 - val_accuracy: 0.8264\n",
      "Epoch 7/10\n",
      "1719/1719 [==============================] - 7s 4ms/step - loss: 0.5341 - accuracy: 0.8204 - val_loss: 0.5113 - val_accuracy: 0.8350\n",
      "Epoch 8/10\n",
      "1719/1719 [==============================] - 7s 4ms/step - loss: 0.5168 - accuracy: 0.8262 - val_loss: 0.5031 - val_accuracy: 0.8354\n",
      "Epoch 9/10\n",
      "1719/1719 [==============================] - 7s 4ms/step - loss: 0.5029 - accuracy: 0.8297 - val_loss: 0.4844 - val_accuracy: 0.8396\n",
      "Epoch 10/10\n",
      "1719/1719 [==============================] - 7s 4ms/step - loss: 0.4909 - accuracy: 0.8326 - val_loss: 0.4764 - val_accuracy: 0.8420\n"
     ]
    }
   ],
   "source": [
    "model.compile(loss='sparse_categorical_crossentropy', \n",
    "              optimizer=keras.optimizers.SGD(learning_rate=1e-3),\n",
    "              metrics=['accuracy'])\n",
    "history = model.fit(X_train, y_train, epochs=10,\n",
    "                    validation_data=(X_valid, y_valid))"
   ]
  },
  {
   "cell_type": "code",
   "execution_count": 18,
   "id": "de5fdc71",
   "metadata": {},
   "outputs": [
    {
     "name": "stdout",
     "output_type": "stream",
     "text": [
      "Model: \"sequential_2\"\n",
      "_________________________________________________________________\n",
      " Layer (type)                Output Shape              Param #   \n",
      "=================================================================\n",
      " flatten_2 (Flatten)         (None, 784)               0         \n",
      "                                                                 \n",
      " dense_8 (Dense)             (None, 300)               235500    \n",
      "                                                                 \n",
      " leaky_re_lu (LeakyReLU)     (None, 300)               0         \n",
      "                                                                 \n",
      " dense_9 (Dense)             (None, 100)               30100     \n",
      "                                                                 \n",
      " leaky_re_lu_1 (LeakyReLU)   (None, 100)               0         \n",
      "                                                                 \n",
      " dense_10 (Dense)            (None, 10)                1010      \n",
      "                                                                 \n",
      "=================================================================\n",
      "Total params: 266,610\n",
      "Trainable params: 266,610\n",
      "Non-trainable params: 0\n",
      "_________________________________________________________________\n"
     ]
    }
   ],
   "source": [
    "tf.random.set_seed(42)\n",
    "np.random.seed(42)\n",
    "model = keras.models.Sequential([\n",
    "    keras.layers.Flatten(input_shape=[28, 28]),\n",
    "    keras.layers.Dense(300, kernel_initializer='he_normal'),\n",
    "    keras.layers.LeakyReLU(),\n",
    "    keras.layers.Dense(100, kernel_initializer='he_normal'),\n",
    "    keras.layers.LeakyReLU(),\n",
    "    keras.layers.Dense(10, activation='softmax')\n",
    "])\n",
    "model.summary()"
   ]
  },
  {
   "cell_type": "code",
   "execution_count": 19,
   "id": "271453ca",
   "metadata": {},
   "outputs": [
    {
     "name": "stdout",
     "output_type": "stream",
     "text": [
      "Epoch 1/10\n",
      "  14/1719 [..............................] - ETA: 7s - loss: 2.4468 - accuracy: 0.0804  "
     ]
    },
    {
     "name": "stderr",
     "output_type": "stream",
     "text": [
      "2022-02-10 20:22:12.821401: I tensorflow/core/grappler/optimizers/custom_graph_optimizer_registry.cc:112] Plugin optimizer for device_type GPU is enabled.\n"
     ]
    },
    {
     "name": "stdout",
     "output_type": "stream",
     "text": [
      "1719/1719 [==============================] - ETA: 0s - loss: 1.2646 - accuracy: 0.6110"
     ]
    },
    {
     "name": "stderr",
     "output_type": "stream",
     "text": [
      "2022-02-10 20:22:19.868834: I tensorflow/core/grappler/optimizers/custom_graph_optimizer_registry.cc:112] Plugin optimizer for device_type GPU is enabled.\n"
     ]
    },
    {
     "name": "stdout",
     "output_type": "stream",
     "text": [
      "1719/1719 [==============================] - 8s 4ms/step - loss: 1.2646 - accuracy: 0.6110 - val_loss: 0.8643 - val_accuracy: 0.7208\n",
      "Epoch 2/10\n",
      "1719/1719 [==============================] - 7s 4ms/step - loss: 0.7870 - accuracy: 0.7462 - val_loss: 0.7035 - val_accuracy: 0.7736\n",
      "Epoch 3/10\n",
      "1719/1719 [==============================] - 7s 4ms/step - loss: 0.6795 - accuracy: 0.7782 - val_loss: 0.6377 - val_accuracy: 0.7922\n",
      "Epoch 4/10\n",
      "1719/1719 [==============================] - 7s 4ms/step - loss: 0.6210 - accuracy: 0.7954 - val_loss: 0.5861 - val_accuracy: 0.8104\n",
      "Epoch 5/10\n",
      "1719/1719 [==============================] - 7s 4ms/step - loss: 0.5824 - accuracy: 0.8068 - val_loss: 0.5533 - val_accuracy: 0.8212\n",
      "Epoch 6/10\n",
      "1719/1719 [==============================] - 7s 4ms/step - loss: 0.5544 - accuracy: 0.8145 - val_loss: 0.5303 - val_accuracy: 0.8276\n",
      "Epoch 7/10\n",
      "1719/1719 [==============================] - 7s 4ms/step - loss: 0.5333 - accuracy: 0.8206 - val_loss: 0.5114 - val_accuracy: 0.8336\n",
      "Epoch 8/10\n",
      "1719/1719 [==============================] - 7s 4ms/step - loss: 0.5170 - accuracy: 0.8249 - val_loss: 0.5046 - val_accuracy: 0.8328\n",
      "Epoch 9/10\n",
      "1719/1719 [==============================] - 7s 4ms/step - loss: 0.5039 - accuracy: 0.8295 - val_loss: 0.4865 - val_accuracy: 0.8378\n",
      "Epoch 10/10\n",
      "1719/1719 [==============================] - 7s 4ms/step - loss: 0.4925 - accuracy: 0.8320 - val_loss: 0.4792 - val_accuracy: 0.8396\n"
     ]
    }
   ],
   "source": [
    "model.compile(loss='sparse_categorical_crossentropy', \n",
    "              optimizer=keras.optimizers.SGD(learning_rate=1e-3),\n",
    "              metrics=['accuracy'])\n",
    "history = model.fit(X_train, y_train, epochs=10,\n",
    "                    validation_data=(X_valid, y_valid))"
   ]
  },
  {
   "cell_type": "code",
   "execution_count": 20,
   "id": "56aa9c03",
   "metadata": {},
   "outputs": [
    {
     "name": "stdout",
     "output_type": "stream",
     "text": [
      "Model: \"sequential_3\"\n",
      "_________________________________________________________________\n",
      " Layer (type)                Output Shape              Param #   \n",
      "=================================================================\n",
      " flatten_3 (Flatten)         (None, 784)               0         \n",
      "                                                                 \n",
      " dense_11 (Dense)            (None, 300)               235500    \n",
      "                                                                 \n",
      " p_re_lu (PReLU)             (None, 300)               300       \n",
      "                                                                 \n",
      " dense_12 (Dense)            (None, 100)               30100     \n",
      "                                                                 \n",
      " p_re_lu_1 (PReLU)           (None, 100)               100       \n",
      "                                                                 \n",
      " dense_13 (Dense)            (None, 10)                1010      \n",
      "                                                                 \n",
      "=================================================================\n",
      "Total params: 267,010\n",
      "Trainable params: 267,010\n",
      "Non-trainable params: 0\n",
      "_________________________________________________________________\n"
     ]
    }
   ],
   "source": [
    "tf.random.set_seed(42)\n",
    "np.random.seed(42)\n",
    "model = keras.models.Sequential([\n",
    "    keras.layers.Flatten(input_shape=[28, 28]),\n",
    "    keras.layers.Dense(300, kernel_initializer='he_normal'),\n",
    "    keras.layers.PReLU(),\n",
    "    keras.layers.Dense(100, kernel_initializer='he_normal'),\n",
    "    keras.layers.PReLU(),\n",
    "    keras.layers.Dense(10, activation='softmax')\n",
    "])\n",
    "model.summary()"
   ]
  },
  {
   "cell_type": "code",
   "execution_count": 21,
   "id": "3f8ee3ef",
   "metadata": {},
   "outputs": [
    {
     "name": "stdout",
     "output_type": "stream",
     "text": [
      "Epoch 1/10\n",
      "  11/1719 [..............................] - ETA: 8s - loss: 2.4247 - accuracy: 0.0455  "
     ]
    },
    {
     "name": "stderr",
     "output_type": "stream",
     "text": [
      "2022-02-10 20:23:25.115268: I tensorflow/core/grappler/optimizers/custom_graph_optimizer_registry.cc:112] Plugin optimizer for device_type GPU is enabled.\n"
     ]
    },
    {
     "name": "stdout",
     "output_type": "stream",
     "text": [
      "1719/1719 [==============================] - ETA: 0s - loss: 1.3308 - accuracy: 0.5974"
     ]
    },
    {
     "name": "stderr",
     "output_type": "stream",
     "text": [
      "2022-02-10 20:23:32.898322: I tensorflow/core/grappler/optimizers/custom_graph_optimizer_registry.cc:112] Plugin optimizer for device_type GPU is enabled.\n"
     ]
    },
    {
     "name": "stdout",
     "output_type": "stream",
     "text": [
      "1719/1719 [==============================] - 8s 5ms/step - loss: 1.3308 - accuracy: 0.5974 - val_loss: 0.8952 - val_accuracy: 0.7202\n",
      "Epoch 2/10\n",
      "1719/1719 [==============================] - 8s 5ms/step - loss: 0.8051 - accuracy: 0.7485 - val_loss: 0.7144 - val_accuracy: 0.7754\n",
      "Epoch 3/10\n",
      "1719/1719 [==============================] - 8s 5ms/step - loss: 0.6864 - accuracy: 0.7799 - val_loss: 0.6416 - val_accuracy: 0.7982\n",
      "Epoch 4/10\n",
      "1719/1719 [==============================] - 8s 5ms/step - loss: 0.6243 - accuracy: 0.7973 - val_loss: 0.5882 - val_accuracy: 0.8150\n",
      "Epoch 5/10\n",
      "1719/1719 [==============================] - 8s 5ms/step - loss: 0.5846 - accuracy: 0.8073 - val_loss: 0.5548 - val_accuracy: 0.8228\n",
      "Epoch 6/10\n",
      "1719/1719 [==============================] - 8s 5ms/step - loss: 0.5560 - accuracy: 0.8150 - val_loss: 0.5312 - val_accuracy: 0.8262\n",
      "Epoch 7/10\n",
      "1719/1719 [==============================] - 8s 5ms/step - loss: 0.5340 - accuracy: 0.8205 - val_loss: 0.5112 - val_accuracy: 0.8352\n",
      "Epoch 8/10\n",
      "1719/1719 [==============================] - 8s 5ms/step - loss: 0.5167 - accuracy: 0.8263 - val_loss: 0.5031 - val_accuracy: 0.8350\n",
      "Epoch 9/10\n",
      "1719/1719 [==============================] - 8s 5ms/step - loss: 0.5028 - accuracy: 0.8298 - val_loss: 0.4843 - val_accuracy: 0.8394\n",
      "Epoch 10/10\n",
      "1719/1719 [==============================] - 8s 5ms/step - loss: 0.4908 - accuracy: 0.8327 - val_loss: 0.4763 - val_accuracy: 0.8420\n"
     ]
    }
   ],
   "source": [
    "model.compile(loss='sparse_categorical_crossentropy', \n",
    "              optimizer=keras.optimizers.SGD(learning_rate=1e-3),\n",
    "              metrics=['accuracy'])\n",
    "history = model.fit(X_train, y_train, epochs=10,\n",
    "                    validation_data=(X_valid, y_valid))"
   ]
  },
  {
   "cell_type": "markdown",
   "id": "b82abb18",
   "metadata": {},
   "source": [
    "##### ELU"
   ]
  },
  {
   "cell_type": "code",
   "execution_count": 22,
   "id": "7f27eb1e",
   "metadata": {},
   "outputs": [],
   "source": [
    "def elu(z, alpha=1):\n",
    "    return np.where(z < 0, alpha * (np.exp(z) - 1), z)"
   ]
  },
  {
   "cell_type": "code",
   "execution_count": 23,
   "id": "4b4e51b6",
   "metadata": {},
   "outputs": [
    {
     "name": "stdout",
     "output_type": "stream",
     "text": [
      "Saving figure elu_plot\n"
     ]
    },
    {
     "data": {
      "image/png": "[encoded data removed]",
      "text/plain": [
       "<Figure size 432x288 with 1 Axes>"
      ]
     },
     "metadata": {
      "needs_background": "light"
     },
     "output_type": "display_data"
    }
   ],
   "source": [
    "plt.plot(z, elu(z), linewidth=2)\n",
    "plt.plot([-5, 5], [0, 0], 'k-')\n",
    "plt.plot([-5, 5], [-1, -1], 'k--')\n",
    "plt.plot([0, 0], [-2.2, 3.2], 'k-')\n",
    "plt.grid(True)\n",
    "plt.title(r'ELU activation fucntion ($\\alpha=1$)', fontsize=14)\n",
    "plt.axis([-5, 5, -2.2, 3.2])\n",
    "save_fig('elu_plot')\n",
    "plt.show()"
   ]
  },
  {
   "cell_type": "code",
   "execution_count": 24,
   "id": "cfd2eec0",
   "metadata": {},
   "outputs": [
    {
     "data": {
      "text/plain": [
       "<keras.layers.core.dense.Dense at 0x16c0398e0>"
      ]
     },
     "execution_count": 24,
     "metadata": {},
     "output_type": "execute_result"
    }
   ],
   "source": [
    "keras.layers.Dense(10, activation='elu')"
   ]
  },
  {
   "cell_type": "markdown",
   "id": "d51f52ac",
   "metadata": {},
   "source": [
    "##### SELU"
   ]
  },
  {
   "cell_type": "code",
   "execution_count": 25,
   "id": "e6d5bfaf",
   "metadata": {},
   "outputs": [],
   "source": [
    "from scipy.special import erfc\n",
    "\n",
    "# alpha and scale to self normalize with mean 0 and standard deviation 1\n",
    "# (see equation 14 in the paper):\n",
    "alpha_0_1 = -np.sqrt(2 / np.pi) / (erfc(1/np.sqrt(2)) * np.exp(1/2) - 1)\n",
    "scale_0_1 = (1 - erfc(1 / np.sqrt(2)) * np.sqrt(np.e)) * np.sqrt(2 * np.pi) * (2 * erfc(np.sqrt(2))*np.e**2 + np.pi*erfc(1/np.sqrt(2))**2*np.e - 2*(2+np.pi)*erfc(1/np.sqrt(2))*np.sqrt(np.e)+np.pi+2)**(-1/2)"
   ]
  },
  {
   "cell_type": "code",
   "execution_count": 26,
   "id": "78485d06",
   "metadata": {},
   "outputs": [],
   "source": [
    "def selu(z, scale=scale_0_1, alpha=alpha_0_1):\n",
    "    return scale * elu(z, alpha)"
   ]
  },
  {
   "cell_type": "code",
   "execution_count": 27,
   "id": "08550316",
   "metadata": {},
   "outputs": [
    {
     "data": {
      "image/png": "[encoded data removed]",
      "text/plain": [
       "<Figure size 432x288 with 1 Axes>"
      ]
     },
     "metadata": {
      "needs_background": "light"
     },
     "output_type": "display_data"
    }
   ],
   "source": [
    "plt.plot(z, selu(z), 'b-', linewidth=2)\n",
    "plt.plot([-5, 5], [0, 0], 'k-')\n",
    "plt.plot([-5, 5], [-1.758, -1.758], 'k--')\n",
    "plt.plot([0, 0], [-2.2, 3.2], 'k-')\n",
    "plt.grid(True)\n",
    "plt.title('SELU activation function', fontsize=14)\n",
    "plt.axis([-5, 5, -2.2, 3.2])\n",
    "#save_fig('selu_plot')\n",
    "plt.show()"
   ]
  },
  {
   "cell_type": "code",
   "execution_count": 28,
   "id": "e08acdd3",
   "metadata": {},
   "outputs": [
    {
     "name": "stdout",
     "output_type": "stream",
     "text": [
      "Layer 0: mean: -0.00, std deviation: 1.00\n",
      "Layer 100: mean: 0.02, std deviation: 0.96\n",
      "Layer 200: mean: 0.01, std deviation: 0.90\n",
      "Layer 300: mean: -0.02, std deviation: 0.92\n",
      "Layer 400: mean: 0.05, std deviation: 0.89\n",
      "Layer 500: mean: 0.01, std deviation: 0.93\n",
      "Layer 600: mean: 0.02, std deviation: 0.92\n",
      "Layer 700: mean: -0.02, std deviation: 0.90\n",
      "Layer 800: mean: 0.05, std deviation: 0.83\n",
      "Layer 900: mean: 0.02, std deviation: 1.00\n"
     ]
    }
   ],
   "source": [
    "np.random.seed(42)\n",
    "Z = np.random.normal(size=(500, 100))\n",
    "for layer in range(1000):\n",
    "    W = np.random.normal(size=(100, 100), scale=np.sqrt(1/100)) # LeCun initialization\n",
    "    Z = selu(np.dot(Z, W))\n",
    "    means = np.mean(Z, axis=0).mean()\n",
    "    stds = np.std(Z, axis=0).mean()\n",
    "    if layer % 100 == 0:\n",
    "        print('Layer {}: mean: {:.2f}, std deviation: {:.2f}'.format(layer, means, stds))"
   ]
  },
  {
   "cell_type": "code",
   "execution_count": 29,
   "id": "1acfea8a",
   "metadata": {},
   "outputs": [
    {
     "data": {
      "text/plain": [
       "<keras.layers.core.dense.Dense at 0x158fce250>"
      ]
     },
     "execution_count": 29,
     "metadata": {},
     "output_type": "execute_result"
    }
   ],
   "source": [
    "keras.layers.Dense(10, activation='selu', kernel_initializer='lecun_normal')"
   ]
  },
  {
   "cell_type": "code",
   "execution_count": 30,
   "id": "15ae0f1b",
   "metadata": {},
   "outputs": [],
   "source": [
    "np.random.seed(42)\n",
    "tf.random.set_seed(42)"
   ]
  },
  {
   "cell_type": "code",
   "execution_count": 31,
   "id": "b6e570cf",
   "metadata": {},
   "outputs": [],
   "source": [
    "model = keras.models.Sequential()\n",
    "model.add(keras.layers.Flatten(input_shape=[28, 28]))\n",
    "model.add(keras.layers.Dense(300, activation='selu', kernel_initializer='lecun_normal'))\n",
    "for layer in range(99):\n",
    "    model.add(keras.layers.Dense(100, activation='selu', kernel_initializer='lecun_normal'))\n",
    "model.add(keras.layers.Dense(10, activation='softmax'))"
   ]
  },
  {
   "cell_type": "code",
   "execution_count": 32,
   "id": "efda034c",
   "metadata": {},
   "outputs": [
    {
     "name": "stdout",
     "output_type": "stream",
     "text": [
      "Model: \"sequential_4\"\n",
      "_________________________________________________________________\n",
      " Layer (type)                Output Shape              Param #   \n",
      "=================================================================\n",
      " flatten_4 (Flatten)         (None, 784)               0         \n",
      "                                                                 \n",
      " dense_16 (Dense)            (None, 300)               235500    \n",
      "                                                                 \n",
      " dense_17 (Dense)            (None, 100)               30100     \n",
      "                                                                 \n",
      " dense_18 (Dense)            (None, 100)               10100     \n",
      "                                                                 \n",
      " dense_19 (Dense)            (None, 100)               10100     \n",
      "                                                                 \n",
      " dense_20 (Dense)            (None, 100)               10100     \n",
      "                                                                 \n",
      " dense_21 (Dense)            (None, 100)               10100     \n",
      "                                                                 \n",
      " dense_22 (Dense)            (None, 100)               10100     \n",
      "                                                                 \n",
      " dense_23 (Dense)            (None, 100)               10100     \n",
      "                                                                 \n",
      " dense_24 (Dense)            (None, 100)               10100     \n",
      "                                                                 \n",
      " dense_25 (Dense)            (None, 100)               10100     \n",
      "                                                                 \n",
      " dense_26 (Dense)            (None, 100)               10100     \n",
      "                                                                 \n",
      " dense_27 (Dense)            (None, 100)               10100     \n",
      "                                                                 \n",
      " dense_28 (Dense)            (None, 100)               10100     \n",
      "                                                                 \n",
      " dense_29 (Dense)            (None, 100)               10100     \n",
      "                                                                 \n",
      " dense_30 (Dense)            (None, 100)               10100     \n",
      "                                                                 \n",
      " dense_31 (Dense)            (None, 100)               10100     \n",
      "                                                                 \n",
      " dense_32 (Dense)            (None, 100)               10100     \n",
      "                                                                 \n",
      " dense_33 (Dense)            (None, 100)               10100     \n",
      "                                                                 \n",
      " dense_34 (Dense)            (None, 100)               10100     \n",
      "                                                                 \n",
      " dense_35 (Dense)            (None, 100)               10100     \n",
      "                                                                 \n",
      " dense_36 (Dense)            (None, 100)               10100     \n",
      "                                                                 \n",
      " dense_37 (Dense)            (None, 100)               10100     \n",
      "                                                                 \n",
      " dense_38 (Dense)            (None, 100)               10100     \n",
      "                                                                 \n",
      " dense_39 (Dense)            (None, 100)               10100     \n",
      "                                                                 \n",
      " dense_40 (Dense)            (None, 100)               10100     \n",
      "                                                                 \n",
      " dense_41 (Dense)            (None, 100)               10100     \n",
      "                                                                 \n",
      " dense_42 (Dense)            (None, 100)               10100     \n",
      "                                                                 \n",
      " dense_43 (Dense)            (None, 100)               10100     \n",
      "                                                                 \n",
      " dense_44 (Dense)            (None, 100)               10100     \n",
      "                                                                 \n",
      " dense_45 (Dense)            (None, 100)               10100     \n",
      "                                                                 \n",
      " dense_46 (Dense)            (None, 100)               10100     \n",
      "                                                                 \n",
      " dense_47 (Dense)            (None, 100)               10100     \n",
      "                                                                 \n",
      " dense_48 (Dense)            (None, 100)               10100     \n",
      "                                                                 \n",
      " dense_49 (Dense)            (None, 100)               10100     \n",
      "                                                                 \n",
      " dense_50 (Dense)            (None, 100)               10100     \n",
      "                                                                 \n",
      " dense_51 (Dense)            (None, 100)               10100     \n",
      "                                                                 \n",
      " dense_52 (Dense)            (None, 100)               10100     \n",
      "                                                                 \n",
      " dense_53 (Dense)            (None, 100)               10100     \n",
      "                                                                 \n",
      " dense_54 (Dense)            (None, 100)               10100     \n",
      "                                                                 \n",
      " dense_55 (Dense)            (None, 100)               10100     \n",
      "                                                                 \n",
      " dense_56 (Dense)            (None, 100)               10100     \n",
      "                                                                 \n",
      " dense_57 (Dense)            (None, 100)               10100     \n",
      "                                                                 \n",
      " dense_58 (Dense)            (None, 100)               10100     \n",
      "                                                                 \n",
      " dense_59 (Dense)            (None, 100)               10100     \n",
      "                                                                 \n",
      " dense_60 (Dense)            (None, 100)               10100     \n",
      "                                                                 \n",
      " dense_61 (Dense)            (None, 100)               10100     \n",
      "                                                                 \n",
      " dense_62 (Dense)            (None, 100)               10100     \n",
      "                                                                 \n",
      " dense_63 (Dense)            (None, 100)               10100     \n",
      "                                                                 \n",
      " dense_64 (Dense)            (None, 100)               10100     \n",
      "                                                                 \n",
      " dense_65 (Dense)            (None, 100)               10100     \n",
      "                                                                 \n",
      " dense_66 (Dense)            (None, 100)               10100     \n",
      "                                                                 \n",
      " dense_67 (Dense)            (None, 100)               10100     \n",
      "                                                                 \n",
      " dense_68 (Dense)            (None, 100)               10100     \n",
      "                                                                 \n",
      " dense_69 (Dense)            (None, 100)               10100     \n",
      "                                                                 \n",
      " dense_70 (Dense)            (None, 100)               10100     \n",
      "                                                                 \n",
      " dense_71 (Dense)            (None, 100)               10100     \n",
      "                                                                 \n",
      " dense_72 (Dense)            (None, 100)               10100     \n",
      "                                                                 \n",
      " dense_73 (Dense)            (None, 100)               10100     \n",
      "                                                                 \n",
      " dense_74 (Dense)            (None, 100)               10100     \n",
      "                                                                 \n",
      " dense_75 (Dense)            (None, 100)               10100     \n",
      "                                                                 \n",
      " dense_76 (Dense)            (None, 100)               10100     \n",
      "                                                                 \n",
      " dense_77 (Dense)            (None, 100)               10100     \n",
      "                                                                 \n",
      " dense_78 (Dense)            (None, 100)               10100     \n",
      "                                                                 \n",
      " dense_79 (Dense)            (None, 100)               10100     \n",
      "                                                                 \n",
      " dense_80 (Dense)            (None, 100)               10100     \n",
      "                                                                 \n",
      " dense_81 (Dense)            (None, 100)               10100     \n",
      "                                                                 \n",
      " dense_82 (Dense)            (None, 100)               10100     \n",
      "                                                                 \n",
      " dense_83 (Dense)            (None, 100)               10100     \n",
      "                                                                 \n",
      " dense_84 (Dense)            (None, 100)               10100     \n",
      "                                                                 \n",
      " dense_85 (Dense)            (None, 100)               10100     \n",
      "                                                                 \n",
      " dense_86 (Dense)            (None, 100)               10100     \n",
      "                                                                 \n",
      " dense_87 (Dense)            (None, 100)               10100     \n",
      "                                                                 \n",
      " dense_88 (Dense)            (None, 100)               10100     \n",
      "                                                                 \n",
      " dense_89 (Dense)            (None, 100)               10100     \n",
      "                                                                 \n",
      " dense_90 (Dense)            (None, 100)               10100     \n",
      "                                                                 \n",
      " dense_91 (Dense)            (None, 100)               10100     \n",
      "                                                                 \n",
      " dense_92 (Dense)            (None, 100)               10100     \n",
      "                                                                 \n",
      " dense_93 (Dense)            (None, 100)               10100     \n",
      "                                                                 \n",
      " dense_94 (Dense)            (None, 100)               10100     \n",
      "                                                                 \n",
      " dense_95 (Dense)            (None, 100)               10100     \n",
      "                                                                 \n",
      " dense_96 (Dense)            (None, 100)               10100     \n",
      "                                                                 \n",
      " dense_97 (Dense)            (None, 100)               10100     \n",
      "                                                                 \n",
      " dense_98 (Dense)            (None, 100)               10100     \n",
      "                                                                 \n",
      " dense_99 (Dense)            (None, 100)               10100     \n",
      "                                                                 \n",
      " dense_100 (Dense)           (None, 100)               10100     \n",
      "                                                                 \n",
      " dense_101 (Dense)           (None, 100)               10100     \n",
      "                                                                 \n",
      " dense_102 (Dense)           (None, 100)               10100     \n",
      "                                                                 \n",
      " dense_103 (Dense)           (None, 100)               10100     \n",
      "                                                                 \n",
      " dense_104 (Dense)           (None, 100)               10100     \n",
      "                                                                 \n",
      " dense_105 (Dense)           (None, 100)               10100     \n",
      "                                                                 \n",
      " dense_106 (Dense)           (None, 100)               10100     \n",
      "                                                                 \n",
      " dense_107 (Dense)           (None, 100)               10100     \n",
      "                                                                 \n",
      " dense_108 (Dense)           (None, 100)               10100     \n",
      "                                                                 \n",
      " dense_109 (Dense)           (None, 100)               10100     \n",
      "                                                                 \n",
      " dense_110 (Dense)           (None, 100)               10100     \n",
      "                                                                 \n",
      " dense_111 (Dense)           (None, 100)               10100     \n",
      "                                                                 \n",
      " dense_112 (Dense)           (None, 100)               10100     \n",
      "                                                                 \n",
      " dense_113 (Dense)           (None, 100)               10100     \n",
      "                                                                 \n",
      " dense_114 (Dense)           (None, 100)               10100     \n",
      "                                                                 \n",
      " dense_115 (Dense)           (None, 100)               10100     \n",
      "                                                                 \n",
      " dense_116 (Dense)           (None, 10)                1010      \n",
      "                                                                 \n",
      "=================================================================\n",
      "Total params: 1,256,410\n",
      "Trainable params: 1,256,410\n",
      "Non-trainable params: 0\n",
      "_________________________________________________________________\n"
     ]
    }
   ],
   "source": [
    "model.summary()"
   ]
  },
  {
   "cell_type": "code",
   "execution_count": 33,
   "id": "7d190aa3",
   "metadata": {},
   "outputs": [],
   "source": [
    "model.compile(loss='sparse_categorical_crossentropy',\n",
    "              optimizer=keras.optimizers.SGD(learning_rate=1e-3),\n",
    "              metrics=['accuracy'])"
   ]
  },
  {
   "cell_type": "code",
   "execution_count": 34,
   "id": "5620230c",
   "metadata": {},
   "outputs": [],
   "source": [
    "pixel_means = X_train.mean(axis=0, keepdims=True)\n",
    "pixel_stds = X_train.std(axis=0, keepdims=True)\n",
    "X_train_scaled = (X_train - pixel_means) / pixel_stds\n",
    "X_valid_scaled = (X_valid - pixel_means) / pixel_stds\n",
    "X_test_scaled = (X_test - pixel_means) / pixel_stds"
   ]
  },
  {
   "cell_type": "code",
   "execution_count": 35,
   "id": "f56028ea",
   "metadata": {},
   "outputs": [
    {
     "name": "stdout",
     "output_type": "stream",
     "text": [
      "Epoch 1/5\n"
     ]
    },
    {
     "name": "stderr",
     "output_type": "stream",
     "text": [
      "2022-02-10 20:24:50.921467: I tensorflow/core/grappler/optimizers/custom_graph_optimizer_registry.cc:112] Plugin optimizer for device_type GPU is enabled.\n"
     ]
    },
    {
     "name": "stdout",
     "output_type": "stream",
     "text": [
      "1719/1719 [==============================] - ETA: 0s - loss: 1.6004 - accuracy: 0.3878"
     ]
    },
    {
     "name": "stderr",
     "output_type": "stream",
     "text": [
      "2022-02-10 20:29:03.635596: I tensorflow/core/grappler/optimizers/custom_graph_optimizer_registry.cc:112] Plugin optimizer for device_type GPU is enabled.\n"
     ]
    },
    {
     "name": "stdout",
     "output_type": "stream",
     "text": [
      "1719/1719 [==============================] - 263s 152ms/step - loss: 1.6004 - accuracy: 0.3878 - val_loss: 1.2384 - val_accuracy: 0.5468\n",
      "Epoch 2/5\n",
      "1719/1719 [==============================] - 259s 151ms/step - loss: 1.3694 - accuracy: 0.4958 - val_loss: 1.4264 - val_accuracy: 0.4528\n",
      "Epoch 3/5\n",
      "1719/1719 [==============================] - 260s 151ms/step - loss: 1.0676 - accuracy: 0.5835 - val_loss: 1.1408 - val_accuracy: 0.5758\n",
      "Epoch 4/5\n",
      "1719/1719 [==============================] - 260s 151ms/step - loss: 0.7915 - accuracy: 0.6872 - val_loss: 0.7570 - val_accuracy: 0.6982\n",
      "Epoch 5/5\n",
      "1719/1719 [==============================] - 259s 151ms/step - loss: 0.7075 - accuracy: 0.7271 - val_loss: 0.7740 - val_accuracy: 0.6962\n"
     ]
    }
   ],
   "source": [
    "history = model.fit(X_train_scaled, y_train, epochs=5, \n",
    "                    validation_data=(X_valid_scaled, y_valid))"
   ]
  },
  {
   "cell_type": "code",
   "execution_count": null,
   "id": "8ca28f28",
   "metadata": {},
   "outputs": [],
   "source": []
  },
  {
   "cell_type": "code",
   "execution_count": null,
   "id": "3e9ab4a8",
   "metadata": {},
   "outputs": [],
   "source": []
  },
  {
   "cell_type": "code",
   "execution_count": null,
   "id": "b950bda9",
   "metadata": {},
   "outputs": [],
   "source": []
  },
  {
   "cell_type": "code",
   "execution_count": null,
   "id": "dcb4297d",
   "metadata": {},
   "outputs": [],
   "source": []
  },
  {
   "cell_type": "code",
   "execution_count": null,
   "id": "99208dfa",
   "metadata": {},
   "outputs": [],
   "source": []
  },
  {
   "cell_type": "code",
   "execution_count": null,
   "id": "7563f4e4",
   "metadata": {},
   "outputs": [],
   "source": []
  }
 ],
 "metadata": {
  "kernelspec": {
   "display_name": "Python 3 (ipykernel)",
   "language": "python",
   "name": "python3"
  },
  "language_info": {
   "codemirror_mode": {
    "name": "ipython",
    "version": 3
   },
   "file_extension": ".py",
   "mimetype": "text/x-python",
   "name": "python",
   "nbconvert_exporter": "python",
   "pygments_lexer": "ipython3",
   "version": "3.9.7"
  }
 },
 "nbformat": 4,
 "nbformat_minor": 5
}
